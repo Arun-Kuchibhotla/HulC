{
 "cells": [
  {
   "cell_type": "code",
   "execution_count": 53,
   "id": "fe9224af",
   "metadata": {},
   "outputs": [],
   "source": [
    "source(\"HulC.R\")\n",
    "library(\"sandwich\")\n",
    "library(ggplot2)\n",
    "library(\"cowplot\")\n",
    "library(\"gridExtra\")\n",
    "library(\"repr\")"
   ]
  },
  {
   "cell_type": "code",
   "execution_count": 20,
   "id": "1c571822",
   "metadata": {},
   "outputs": [
    {
     "name": "stdout",
     "output_type": "stream",
     "text": [
      "[1] \"HulC confidence interval:\"\n"
     ]
    },
    {
     "data": {
      "text/html": [
       "<ol class=list-inline>\n",
       "\t<li>1.9301296880769</li>\n",
       "\t<li>2.11027476031714</li>\n",
       "</ol>\n"
      ],
      "text/latex": [
       "\\begin{enumerate*}\n",
       "\\item 1.9301296880769\n",
       "\\item 2.11027476031714\n",
       "\\end{enumerate*}\n"
      ],
      "text/markdown": [
       "1. 1.9301296880769\n",
       "2. 2.11027476031714\n",
       "\n",
       "\n"
      ],
      "text/plain": [
       "[1] 1.930130 2.110275"
      ]
     },
     "metadata": {},
     "output_type": "display_data"
    },
    {
     "name": "stdout",
     "output_type": "stream",
     "text": [
      "[1] \"Wald confidence interval:\"\n"
     ]
    },
    {
     "data": {
      "text/html": [
       "<ol class=list-inline>\n",
       "\t<li>1.94447185949283</li>\n",
       "\t<li>2.10349549443224</li>\n",
       "</ol>\n"
      ],
      "text/latex": [
       "\\begin{enumerate*}\n",
       "\\item 1.94447185949283\n",
       "\\item 2.10349549443224\n",
       "\\end{enumerate*}\n"
      ],
      "text/markdown": [
       "1. 1.94447185949283\n",
       "2. 2.10349549443224\n",
       "\n",
       "\n"
      ],
      "text/plain": [
       "[1] 1.944472 2.103495"
      ]
     },
     "metadata": {},
     "output_type": "display_data"
    }
   ],
   "source": [
    "## The following function generates data from a \n",
    "## misspecified linear model and constructs both\n",
    "## HulC and Wald confidence intervals. The model\n",
    "## is \n",
    "## Y = 1 + 2*x + gamma*x^{1.7} + exp(gamma*x)*epsilon.\n",
    "## For gamma = 0, the model is well-specified.\n",
    "foo <- function(nsamp, gamma, name, alpha = 0.05){\n",
    "    beta0 <- 1\n",
    "    beta1 <- 2\n",
    "    x <- runif(nsamp, 0, 10)\n",
    "    y <- beta0 + beta1*x + gamma*x^{1.7} + exp(gamma*x)*rnorm(nsamp)\n",
    "    data <- cbind(x, y)\n",
    "    if(name == \"HulC\"){\n",
    "        estimate <- function(dat_tmp){\n",
    "            fit <- lm(dat_tmp[,2] ~ dat_tmp[,1])\n",
    "            return(unname(fit$coeff)[2])\n",
    "        }\n",
    "        tmp <- as.vector(HulC(data, estimate, alpha = alpha, Delta = 0, dim = 1)$CI)\n",
    "    }\n",
    "    if(name == \"Wald\"){\n",
    "        mod <- lm(data[,2] ~ data[,1])\n",
    "        est <- unname(mod$coeff[2])\n",
    "        sd_est <- sqrt(vcovHC(mod, type = \"HC\")[2,2])\n",
    "        tmp <- est + c(-1, 1)*qnorm(1-alpha/2)*sd_est\n",
    "    }\n",
    "    return(tmp)\n",
    "}\n",
    "\n",
    "## HulC confidence interval\n",
    "print(\"HulC confidence interval:\")\n",
    "foo(100, 0, \"HulC\", alpha = 0.05)\n",
    "\n",
    "## Wald confidence interval\n",
    "print(\"Wald confidence interval:\")\n",
    "foo(100, 0, \"Wald\", alpha = 0.05)"
   ]
  },
  {
   "cell_type": "code",
   "execution_count": 41,
   "id": "c03fa4fd",
   "metadata": {},
   "outputs": [
    {
     "name": "stdout",
     "output_type": "stream",
     "text": [
      "[1] 1000\n",
      "[1] 2000\n",
      "[1] 3000\n",
      "[1] 4000\n",
      "[1] 5000\n",
      "[1] 6000\n",
      "[1] 7000\n",
      "[1] 8000\n",
      "[1] 9000\n",
      "[1] 10000\n",
      "[1] 11000\n",
      "[1] 12000\n",
      "[1] 13000\n",
      "[1] 14000\n",
      "[1] 15000\n",
      "[1] 16000\n",
      "[1] 17000\n",
      "[1] 18000\n",
      "[1] 19000\n",
      "[1] 20000\n",
      "[1] 21000\n",
      "[1] 22000\n",
      "[1] 23000\n",
      "[1] 24000\n",
      "[1] 25000\n",
      "[1] 26000\n",
      "[1] 27000\n",
      "[1] 28000\n",
      "[1] 29000\n",
      "[1] 30000\n",
      "[1] 31000\n",
      "[1] 32000\n",
      "[1] 33000\n",
      "[1] 34000\n",
      "[1] 35000\n",
      "[1] 36000\n",
      "[1] 37000\n",
      "[1] 38000\n",
      "[1] 39000\n",
      "[1] 40000\n"
     ]
    },
    {
     "data": {
      "text/html": [
       "<table>\n",
       "<thead><tr><th scope=col>value</th><th scope=col>gamma</th><th scope=col>nsamp</th><th scope=col>name</th><th scope=col>rep</th></tr></thead>\n",
       "<tbody>\n",
       "\t<tr><td>1   </td><td>0.00</td><td>  20</td><td>HulC</td><td>1   </td></tr>\n",
       "\t<tr><td>1   </td><td>0.00</td><td>  50</td><td>HulC</td><td>1   </td></tr>\n",
       "\t<tr><td>1   </td><td>0.00</td><td> 100</td><td>HulC</td><td>1   </td></tr>\n",
       "\t<tr><td>1   </td><td>0.00</td><td>1000</td><td>HulC</td><td>1   </td></tr>\n",
       "\t<tr><td>1   </td><td>0.25</td><td>  20</td><td>HulC</td><td>1   </td></tr>\n",
       "\t<tr><td>1   </td><td>0.25</td><td>  50</td><td>HulC</td><td>1   </td></tr>\n",
       "</tbody>\n",
       "</table>\n"
      ],
      "text/latex": [
       "\\begin{tabular}{r|lllll}\n",
       " value & gamma & nsamp & name & rep\\\\\n",
       "\\hline\n",
       "\t 1    & 0.00 &   20 & HulC & 1   \\\\\n",
       "\t 1    & 0.00 &   50 & HulC & 1   \\\\\n",
       "\t 1    & 0.00 &  100 & HulC & 1   \\\\\n",
       "\t 1    & 0.00 & 1000 & HulC & 1   \\\\\n",
       "\t 1    & 0.25 &   20 & HulC & 1   \\\\\n",
       "\t 1    & 0.25 &   50 & HulC & 1   \\\\\n",
       "\\end{tabular}\n"
      ],
      "text/markdown": [
       "\n",
       "| value | gamma | nsamp | name | rep |\n",
       "|---|---|---|---|---|\n",
       "| 1    | 0.00 |   20 | HulC | 1    |\n",
       "| 1    | 0.00 |   50 | HulC | 1    |\n",
       "| 1    | 0.00 |  100 | HulC | 1    |\n",
       "| 1    | 0.00 | 1000 | HulC | 1    |\n",
       "| 1    | 0.25 |   20 | HulC | 1    |\n",
       "| 1    | 0.25 |   50 | HulC | 1    |\n",
       "\n"
      ],
      "text/plain": [
       "  value gamma nsamp name rep\n",
       "1 1     0.00    20  HulC 1  \n",
       "2 1     0.00    50  HulC 1  \n",
       "3 1     0.00   100  HulC 1  \n",
       "4 1     0.00  1000  HulC 1  \n",
       "5 1     0.25    20  HulC 1  \n",
       "6 1     0.25    50  HulC 1  "
      ]
     },
     "metadata": {},
     "output_type": "display_data"
    }
   ],
   "source": [
    "nsamp_seq <- c(20, 50, 100, 1000)\n",
    "gamma_seq <- seq(0, 1, length = 5)\n",
    "## Finding the projection parameter values using \n",
    "## Monte Carlo simulation\n",
    "proj_beta <- rep(0, length(gamma_seq))\n",
    "names(proj_beta) <- paste0(\"gamma_\", gamma_seq)\n",
    "# for(idx in 1:length(gamma_seq)){\n",
    "#   beta0 <- 1\n",
    "#   beta1 <- 2\n",
    "#   nsamp <- 1e08\n",
    "#   gamma <- gamma_seq[idx]\n",
    "#   x <- runif(nsamp, 0, 10)\n",
    "#   y <- beta0 + beta1*x + gamma*x^{1.7} + exp(gamma*x)*rnorm(nsamp)\n",
    "#   data <- cbind(1, x, y)\n",
    "#   proj_beta[idx] <- unname(lm.fit(data[,c(1,2)], data[,3])$coefficients[2])\n",
    "# }\n",
    "## proj_beta vector is\n",
    "## 2.000038 3.279129 4.556705 5.823864 6.809289 \n",
    "proj_beta <- c(2.000038, 3.279129, 4.556705, 5.823864, 6.809289)\n",
    "names(proj_beta) <- paste0(\"gamma_\",gamma_seq)\n",
    "\n",
    "## Simulation\n",
    "## Setting seed for reproducibility.\n",
    "set.seed(2021)\n",
    "name_seq <- c(\"HulC\", \"Wald\")\n",
    "nrep <- 1000\n",
    "rep_seq <- 1:nrep\n",
    "grid <- expand.grid(nsamp_seq, gamma_seq, name_seq, rep_seq)\n",
    "colnames(grid) <- c(\"nsamp\", \"gamma\", \"name\", \"rep\")\n",
    "width_mat <- data.frame(value = rep(0, nrow(grid)), gamma = grid$gamma, nsamp = grid$nsamp, name = grid$name, rep = grid$rep)\n",
    "cov_mat <- width_mat\n",
    "\n",
    "for(idx in 1:nrow(grid)){\n",
    "    if(idx%%1000 == 0){\n",
    "      print(idx)\n",
    "    }\n",
    "    tmp <- foo(grid[idx,1], grid[idx,2], grid[idx,3], alpha = 0.05)\n",
    "    width_mat[idx, 1] <- (tmp[2] - tmp[1])\n",
    "    true_beta <- proj_beta[paste0(\"gamma_\", grid[idx,2])]\n",
    "    cov_mat[idx, 1] <- (tmp[1] <= true_beta && true_beta <= tmp[2])\n",
    "}"
   ]
  },
  {
   "cell_type": "code",
   "execution_count": 42,
   "id": "0dea00eb",
   "metadata": {},
   "outputs": [
    {
     "data": {
      "text/html": [
       "<table>\n",
       "<thead><tr><th scope=col>value</th><th scope=col>gamma</th><th scope=col>nsamp</th><th scope=col>name</th><th scope=col>rep</th></tr></thead>\n",
       "<tbody>\n",
       "\t<tr><td>1   </td><td>0.00</td><td>  20</td><td>HulC</td><td>1   </td></tr>\n",
       "\t<tr><td>1   </td><td>0.00</td><td>  50</td><td>HulC</td><td>1   </td></tr>\n",
       "\t<tr><td>1   </td><td>0.00</td><td> 100</td><td>HulC</td><td>1   </td></tr>\n",
       "\t<tr><td>1   </td><td>0.00</td><td>1000</td><td>HulC</td><td>1   </td></tr>\n",
       "\t<tr><td>1   </td><td>0.25</td><td>  20</td><td>HulC</td><td>1   </td></tr>\n",
       "\t<tr><td>1   </td><td>0.25</td><td>  50</td><td>HulC</td><td>1   </td></tr>\n",
       "</tbody>\n",
       "</table>\n"
      ],
      "text/latex": [
       "\\begin{tabular}{r|lllll}\n",
       " value & gamma & nsamp & name & rep\\\\\n",
       "\\hline\n",
       "\t 1    & 0.00 &   20 & HulC & 1   \\\\\n",
       "\t 1    & 0.00 &   50 & HulC & 1   \\\\\n",
       "\t 1    & 0.00 &  100 & HulC & 1   \\\\\n",
       "\t 1    & 0.00 & 1000 & HulC & 1   \\\\\n",
       "\t 1    & 0.25 &   20 & HulC & 1   \\\\\n",
       "\t 1    & 0.25 &   50 & HulC & 1   \\\\\n",
       "\\end{tabular}\n"
      ],
      "text/markdown": [
       "\n",
       "| value | gamma | nsamp | name | rep |\n",
       "|---|---|---|---|---|\n",
       "| 1    | 0.00 |   20 | HulC | 1    |\n",
       "| 1    | 0.00 |   50 | HulC | 1    |\n",
       "| 1    | 0.00 |  100 | HulC | 1    |\n",
       "| 1    | 0.00 | 1000 | HulC | 1    |\n",
       "| 1    | 0.25 |   20 | HulC | 1    |\n",
       "| 1    | 0.25 |   50 | HulC | 1    |\n",
       "\n"
      ],
      "text/plain": [
       "  value gamma nsamp name rep\n",
       "1 1     0.00    20  HulC 1  \n",
       "2 1     0.00    50  HulC 1  \n",
       "3 1     0.00   100  HulC 1  \n",
       "4 1     0.00  1000  HulC 1  \n",
       "5 1     0.25    20  HulC 1  \n",
       "6 1     0.25    50  HulC 1  "
      ]
     },
     "metadata": {},
     "output_type": "display_data"
    },
    {
     "data": {
      "text/html": [
       "<table>\n",
       "<thead><tr><th scope=col>cov</th><th scope=col>gamma</th><th scope=col>nsamp</th><th scope=col>name</th><th scope=col>type</th></tr></thead>\n",
       "<tbody>\n",
       "\t<tr><td>0.950   </td><td>0.00    </td><td>  20    </td><td>HulC    </td><td>Coverage</td></tr>\n",
       "\t<tr><td>0.951   </td><td>0.00    </td><td>  50    </td><td>HulC    </td><td>Coverage</td></tr>\n",
       "\t<tr><td>0.956   </td><td>0.00    </td><td> 100    </td><td>HulC    </td><td>Coverage</td></tr>\n",
       "\t<tr><td>0.956   </td><td>0.00    </td><td>1000    </td><td>HulC    </td><td>Coverage</td></tr>\n",
       "\t<tr><td>0.952   </td><td>0.25    </td><td>  20    </td><td>HulC    </td><td>Coverage</td></tr>\n",
       "\t<tr><td>0.948   </td><td>0.25    </td><td>  50    </td><td>HulC    </td><td>Coverage</td></tr>\n",
       "</tbody>\n",
       "</table>\n"
      ],
      "text/latex": [
       "\\begin{tabular}{r|lllll}\n",
       " cov & gamma & nsamp & name & type\\\\\n",
       "\\hline\n",
       "\t 0.950    & 0.00     &   20     & HulC     & Coverage\\\\\n",
       "\t 0.951    & 0.00     &   50     & HulC     & Coverage\\\\\n",
       "\t 0.956    & 0.00     &  100     & HulC     & Coverage\\\\\n",
       "\t 0.956    & 0.00     & 1000     & HulC     & Coverage\\\\\n",
       "\t 0.952    & 0.25     &   20     & HulC     & Coverage\\\\\n",
       "\t 0.948    & 0.25     &   50     & HulC     & Coverage\\\\\n",
       "\\end{tabular}\n"
      ],
      "text/markdown": [
       "\n",
       "| cov | gamma | nsamp | name | type |\n",
       "|---|---|---|---|---|\n",
       "| 0.950    | 0.00     |   20     | HulC     | Coverage |\n",
       "| 0.951    | 0.00     |   50     | HulC     | Coverage |\n",
       "| 0.956    | 0.00     |  100     | HulC     | Coverage |\n",
       "| 0.956    | 0.00     | 1000     | HulC     | Coverage |\n",
       "| 0.952    | 0.25     |   20     | HulC     | Coverage |\n",
       "| 0.948    | 0.25     |   50     | HulC     | Coverage |\n",
       "\n"
      ],
      "text/plain": [
       "  cov   gamma nsamp name type    \n",
       "1 0.950 0.00    20  HulC Coverage\n",
       "2 0.951 0.00    50  HulC Coverage\n",
       "3 0.956 0.00   100  HulC Coverage\n",
       "4 0.956 0.00  1000  HulC Coverage\n",
       "5 0.952 0.25    20  HulC Coverage\n",
       "6 0.948 0.25    50  HulC Coverage"
      ]
     },
     "metadata": {},
     "output_type": "display_data"
    },
    {
     "data": {
      "text/html": [
       "<table>\n",
       "<thead><tr><th scope=col>value</th><th scope=col>gamma</th><th scope=col>nsamp</th><th scope=col>name</th><th scope=col>rep</th><th scope=col>type</th></tr></thead>\n",
       "<tbody>\n",
       "\t<tr><td>2.966502   </td><td>0.00       </td><td>  20       </td><td>HulC       </td><td>1          </td><td>Width Ratio</td></tr>\n",
       "\t<tr><td>1.068702   </td><td>0.00       </td><td>  50       </td><td>HulC       </td><td>1          </td><td>Width Ratio</td></tr>\n",
       "\t<tr><td>2.006350   </td><td>0.00       </td><td> 100       </td><td>HulC       </td><td>1          </td><td>Width Ratio</td></tr>\n",
       "\t<tr><td>2.016145   </td><td>0.00       </td><td>1000       </td><td>HulC       </td><td>1          </td><td>Width Ratio</td></tr>\n",
       "\t<tr><td>5.003359   </td><td>0.25       </td><td>  20       </td><td>HulC       </td><td>1          </td><td>Width Ratio</td></tr>\n",
       "\t<tr><td>3.262480   </td><td>0.25       </td><td>  50       </td><td>HulC       </td><td>1          </td><td>Width Ratio</td></tr>\n",
       "</tbody>\n",
       "</table>\n"
      ],
      "text/latex": [
       "\\begin{tabular}{r|llllll}\n",
       " value & gamma & nsamp & name & rep & type\\\\\n",
       "\\hline\n",
       "\t 2.966502    & 0.00        &   20        & HulC        & 1           & Width Ratio\\\\\n",
       "\t 1.068702    & 0.00        &   50        & HulC        & 1           & Width Ratio\\\\\n",
       "\t 2.006350    & 0.00        &  100        & HulC        & 1           & Width Ratio\\\\\n",
       "\t 2.016145    & 0.00        & 1000        & HulC        & 1           & Width Ratio\\\\\n",
       "\t 5.003359    & 0.25        &   20        & HulC        & 1           & Width Ratio\\\\\n",
       "\t 3.262480    & 0.25        &   50        & HulC        & 1           & Width Ratio\\\\\n",
       "\\end{tabular}\n"
      ],
      "text/markdown": [
       "\n",
       "| value | gamma | nsamp | name | rep | type |\n",
       "|---|---|---|---|---|---|\n",
       "| 2.966502    | 0.00        |   20        | HulC        | 1           | Width Ratio |\n",
       "| 1.068702    | 0.00        |   50        | HulC        | 1           | Width Ratio |\n",
       "| 2.006350    | 0.00        |  100        | HulC        | 1           | Width Ratio |\n",
       "| 2.016145    | 0.00        | 1000        | HulC        | 1           | Width Ratio |\n",
       "| 5.003359    | 0.25        |   20        | HulC        | 1           | Width Ratio |\n",
       "| 3.262480    | 0.25        |   50        | HulC        | 1           | Width Ratio |\n",
       "\n"
      ],
      "text/plain": [
       "  value    gamma nsamp name rep type       \n",
       "1 2.966502 0.00    20  HulC 1   Width Ratio\n",
       "2 1.068702 0.00    50  HulC 1   Width Ratio\n",
       "3 2.006350 0.00   100  HulC 1   Width Ratio\n",
       "4 2.016145 0.00  1000  HulC 1   Width Ratio\n",
       "5 5.003359 0.25    20  HulC 1   Width Ratio\n",
       "6 3.262480 0.25    50  HulC 1   Width Ratio"
      ]
     },
     "metadata": {},
     "output_type": "display_data"
    }
   ],
   "source": [
    "head(cov_mat)\n",
    "grid_new <- expand.grid(nsamp_seq, gamma_seq, name_seq)\n",
    "colnames(grid_new) <- c(\"nsamp\", \"gamma\", \"name\")\n",
    "col.cov<- data.frame(cov = rep(0, nrow(grid_new)), gamma = grid_new$gamma, nsamp = grid_new$nsamp, name = grid_new$name)\n",
    "for(idx in 1:nrow(grid_new)){\n",
    "  temp.width <- cov_mat[cov_mat$nsamp==grid_new[idx,\"nsamp\"],]\n",
    "  temp.width1 <- temp.width[temp.width$gamma==grid_new[idx,\"gamma\"],]\n",
    "  temp.width2 <- temp.width1[temp.width1$name==grid_new[idx,\"name\"],]\n",
    "  col.cov[idx,1] <- mean(temp.width2$value)\n",
    "}\n",
    "col.cov$type <- \"Coverage\"\n",
    "new_width_mat <- width_mat[width_mat$name == \"HulC\",]\n",
    "new_width_mat$value <- new_width_mat$value/width_mat[width_mat$name == \"Wald\",1]\n",
    "tmp_width_mat <- new_width_mat[new_width_mat$value <= 20,]\n",
    "tmp_width_mat$type <- \"Width Ratio\"\n",
    "\n",
    "head(col.cov)\n",
    "head(tmp_width_mat)"
   ]
  },
  {
   "cell_type": "code",
   "execution_count": 57,
   "id": "9774b1ae",
   "metadata": {},
   "outputs": [
    {
     "data": {
      "image/png": "[encoded data removed]",
      "text/plain": [
       "plot without title"
      ]
     },
     "metadata": {},
     "output_type": "display_data"
    }
   ],
   "source": [
    "g1 <- ggplot(data = tmp_width_mat, mapping= aes(x=as.factor(gamma), y =value)) +\n",
    "  geom_boxplot(color=\"gray30\")+ \n",
    "  facet_grid(type~as.factor(nsamp))  + \n",
    "  geom_hline(yintercept = 1.5, linetype = 1, color = \"red\")+ \n",
    "  scale_x_discrete(labels = NULL, breaks = NULL) + \n",
    "  labs(x = \"\",y=\"\")+\n",
    "  theme(plot.margin=unit(c(0,0,0,.05), \"cm\"))+ \n",
    "  coord_cartesian(ylim=c(0, 7.5))+background_grid(major=\"y\", minor=\"none\")\n",
    "g1 <- g1 + geom_hline(yintercept=1,color=\"blue\")\n",
    "g1 <- g1 + scale_y_continuous(breaks=c(0, 1, 1.5, 2, 4, 6, 7), \n",
    "                    labels=c(\"0.0\", \"1.0\", \"1.5\", \"2\", \"4\", \"6\", \"7\"))\n",
    "g1 <- g1 + theme(axis.text.x=element_text(size = 13),\n",
    "                axis.text.y=element_text(size=13,color = c(\"black\", \"blue\", \"red\", \"black\", \"black\", \"black\", \"black\")),\n",
    "                axis.text=element_text(size=12),\n",
    "                axis.title=element_text(size=15,face=\"bold\"),\n",
    "                strip.text = element_text(size=15,face = \"bold\"),\n",
    "                axis.ticks.y = element_line(color = c(\"black\", \"blue\", \"red\", \"black\", \"black\", \"black\", \"black\"),\n",
    "                                    size = c(.5,0.5,0.5,.5,.5,.5,.5)))\n",
    "\n",
    "\n",
    "levels(col.cov$name)[1] <- \"HulC\"\n",
    "g2<-ggplot(data= col.cov, mapping= aes(x=gamma, y =cov, col=name, group= as.factor(name))) +\n",
    "  ylim(.8, 0.96)+\n",
    "  geom_line()+ \n",
    "  facet_grid(type~as.factor(nsamp)) + \n",
    "  geom_hline(yintercept = 0.95, linetype = 2) + \n",
    "  theme(plot.margin=unit(c(0,0,0,-.2), \"cm\"),\n",
    "        legend.position=c(0.9,0.3),\n",
    "        strip.background.x = element_blank(),\n",
    "        legend.margin = margin(10, 10, 10, 10),\n",
    "        axis.text.x=element_text(size = 13),\n",
    "        axis.text.y=element_text(size=13),\n",
    "        axis.text=element_text(size=12),\n",
    "        legend.text=element_text(size=15, face = \"bold\"),\n",
    "        legend.title=element_text(size = 15, face = \"bold\"),\n",
    "        strip.text.x = element_blank(),    \n",
    "        axis.title=element_text(size=15,face=\"bold\"),\n",
    "        strip.text = element_text(size=15,face = \"bold\") )+ \n",
    "  labs(y=\"\", x=expression(gamma))+\n",
    "  background_grid(major=\"y\", minor=\"none\")+\n",
    "  scale_color_discrete(\"Method\")+\n",
    "  scale_x_continuous(breaks=c(0, 0.25, 0.5, 0.75, 1), \n",
    "                      labels=c(\"0\", \"0.25\", \"0.5\", \"0.75\", \"1\"))\n",
    "\n",
    "options(repr.plot.width=14, repr.plot.height=10)\n",
    "grid.arrange(g1,g2)"
   ]
  }
 ],
 "metadata": {
  "kernelspec": {
   "display_name": "R",
   "language": "R",
   "name": "ir"
  },
  "language_info": {
   "codemirror_mode": "r",
   "file_extension": ".r",
   "mimetype": "text/x-r-source",
   "name": "R",
   "pygments_lexer": "r",
   "version": "3.6.1"
  }
 },
 "nbformat": 4,
 "nbformat_minor": 5
}

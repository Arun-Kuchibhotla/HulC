{
 "cells": [
  {
   "cell_type": "markdown",
   "id": "d671994f",
   "metadata": {},
   "source": [
    "# Comparison of HulC and Wald intervals:\n",
    "## Simple Linear Regression"
   ]
  },
  {
   "cell_type": "code",
   "execution_count": 1,
   "id": "fe9224af",
   "metadata": {},
   "outputs": [
    {
     "name": "stderr",
     "output_type": "stream",
     "text": [
      "Registered S3 methods overwritten by 'ggplot2':\n",
      "  method         from \n",
      "  [.quosures     rlang\n",
      "  c.quosures     rlang\n",
      "  print.quosures rlang\n",
      "Warning message:\n",
      "\"package 'cowplot' was built under R version 3.6.3\"Warning message:\n",
      "\"package 'gridExtra' was built under R version 3.6.3\""
     ]
    }
   ],
   "source": [
    "### HulC.R contains all the functions related to the HulC procedure.\n",
    "source(\"HulC.R\")\n",
    "\n",
    "### loading necessary packages for computation and plotting.\n",
    "library(\"sandwich\")\n",
    "library(ggplot2)\n",
    "library(\"cowplot\")\n",
    "library(\"gridExtra\")\n",
    "library(\"repr\")\n",
    "library(\"boot\")"
   ]
  },
  {
   "cell_type": "markdown",
   "id": "44b56007",
   "metadata": {},
   "source": [
    "In the following, we will compare the HulC and Wald confidence intervals for the slope in a potentially misspecified linear model. We have observations $(X_i, Y_i), 1\\le i\\le n$ from the model\n",
    "\\begin{equation*}\n",
    "Y_i = 1 + 2X_i + \\gamma X_i^{1.7} + \\exp(\\gamma X_i)\\xi_i,\n",
    "\\label{eq:DGP}\\tag{DGP}\n",
    "\\end{equation*}\n",
    "where $\\xi_i$ is a standard Gaussian random variable independent of $X_i$. The estimator we use is the classical OLS linear regression estimator:\n",
    "$$(\\widehat{\\alpha}, \\widehat{\\beta}) := \\underset{(\\alpha,\\beta)}{\\text{argmin}} \\sum_{i=1}^n (Y_i - \\alpha - \\beta X_i)^2.$$\n",
    "The target of $(\\widehat{\\alpha}, \\widehat{\\beta})$ is given by\n",
    "$$(\\alpha_{\\gamma}, \\beta_{\\gamma}) := \\underset{(\\alpha,\\beta)}{\\text{argmin}} \\mathbb{E}_{\\gamma}[(Y - \\alpha - \\beta X)^2],$$\n",
    "where $\\mathbb{E}_{\\gamma}$ is the expectation with respect to $(X, Y)$, when they are also generated from the model \\eqref{eq:DGP}. Our target of inference is the parameter $\\beta_{\\gamma}$ for $\\gamma$ in an equi-spaced grid of size 5 between $0$ and $1$. Note that for $\\gamma = 0$, the data generating model \\eqref{eq:DGP} is a well-specified linear model. \n",
    "\n",
    "It is important to note that $(\\alpha_{\\gamma}, \\beta_{\\gamma}) \\neq (1, 2)$ for any $\\gamma > 0$. We find the values of $\\beta_{\\gamma}$ for $\\gamma$ in the grid by generating $10^8$ samples from the model \\eqref{eq:DGP} and performing least squares regression. The following code performs this operation.  "
   ]
  },
  {
   "cell_type": "code",
   "execution_count": 2,
   "id": "d85d2d84",
   "metadata": {},
   "outputs": [],
   "source": [
    "## The following code is precomputed because it is computationally expensive.\n",
    "gamma_seq <- seq(0, 1, length = 5)\n",
    "## Finding the projection parameter values using \n",
    "## Monte Carlo simulation\n",
    "# proj_beta <- rep(0, length(gamma_seq))\n",
    "# names(proj_beta) <- paste0(\"gamma_\", gamma_seq)\n",
    "# for(idx in 1:length(gamma_seq)){\n",
    "#   beta0 <- 1\n",
    "#   beta1 <- 2\n",
    "#   nsamp <- 1e08\n",
    "#   gamma <- gamma_seq[idx]\n",
    "#   x <- runif(nsamp, 0, 10)\n",
    "#   y <- beta0 + beta1*x + gamma*x^{1.7} + exp(gamma*x)*rnorm(nsamp)\n",
    "#   data <- cbind(1, x, y)\n",
    "#   proj_beta[idx] <- unname(lm.fit(data[,c(1,2)], data[,3])$coefficients[2])\n",
    "# }\n",
    "proj_beta <- c(2.000038, 3.279129, 4.556705, 5.823864, 6.809289)\n",
    "names(proj_beta) <- paste0(\"gamma_\",gamma_seq)"
   ]
  },
  {
   "cell_type": "markdown",
   "id": "1d2937b0",
   "metadata": {},
   "source": [
    "Now that we found the projection parameter values (i.e., $\\beta_{\\gamma}$ for $\\gamma$ in the grid), our aim is to construct confidence intervals to contain $\\beta_{\\gamma}$. Note that $\\widehat{\\beta}$ is consistent for $\\beta_{\\gamma}$ whenever the data is generated from \\eqref{eq:DGP}. The classical Wald interval with sandwich covariance matrix is an asymptotically valid confidence interval for $\\beta_{\\gamma}$. Because the limiting distribution is Gaussian, the asymptotic median bias of $\\widehat{\\beta}$ is zero and hence HulC can be applied $\\Delta = 0$; this is Algorithm 1 in the paper. The following function (`foo`) generates data from \\eqref{eq:DGP} and computes the HulC and Wald confidence intervals at the confidence of $95\\%$.  "
   ]
  },
  {
   "cell_type": "code",
   "execution_count": 3,
   "id": "1c571822",
   "metadata": {},
   "outputs": [
    {
     "name": "stdout",
     "output_type": "stream",
     "text": [
      "[1] \"HulC confidence interval:\"\n"
     ]
    },
    {
     "data": {
      "text/html": [
       "<ol class=list-inline>\n",
       "\t<li>1.81073913733409</li>\n",
       "\t<li>2.1160996324431</li>\n",
       "</ol>\n"
      ],
      "text/latex": [
       "\\begin{enumerate*}\n",
       "\\item 1.81073913733409\n",
       "\\item 2.1160996324431\n",
       "\\end{enumerate*}\n"
      ],
      "text/markdown": [
       "1. 1.81073913733409\n",
       "2. 2.1160996324431\n",
       "\n",
       "\n"
      ],
      "text/plain": [
       "[1] 1.810739 2.116100"
      ]
     },
     "metadata": {},
     "output_type": "display_data"
    },
    {
     "name": "stdout",
     "output_type": "stream",
     "text": [
      "[1] \"Wald confidence interval:\"\n"
     ]
    },
    {
     "data": {
      "text/html": [
       "<ol class=list-inline>\n",
       "\t<li>1.9449944578074</li>\n",
       "\t<li>2.09379897626785</li>\n",
       "</ol>\n"
      ],
      "text/latex": [
       "\\begin{enumerate*}\n",
       "\\item 1.9449944578074\n",
       "\\item 2.09379897626785\n",
       "\\end{enumerate*}\n"
      ],
      "text/markdown": [
       "1. 1.9449944578074\n",
       "2. 2.09379897626785\n",
       "\n",
       "\n"
      ],
      "text/plain": [
       "[1] 1.944994 2.093799"
      ]
     },
     "metadata": {},
     "output_type": "display_data"
    }
   ],
   "source": [
    "foo <- function(nsamp, gamma, name, alpha = 0.05){\n",
    "    beta0 <- 1\n",
    "    beta1 <- 2\n",
    "    x <- runif(nsamp, 0, 10)\n",
    "    y <- beta0 + beta1*x + gamma*x^{1.7} + exp(gamma*x)*rnorm(nsamp)\n",
    "    data <- cbind(x, y)\n",
    "    if(name == \"HulC\"){\n",
    "        estimate <- function(dat_tmp){\n",
    "            fit <- lm(dat_tmp[,2] ~ dat_tmp[,1])\n",
    "            return(unname(fit$coeff)[2])\n",
    "        }\n",
    "        tmp <- as.vector(HulC(data, estimate, alpha = alpha, Delta = 0, dim = 1)$CI)\n",
    "    }\n",
    "    if(name == \"Wald\"){\n",
    "        mod <- lm(data[,2] ~ data[,1])\n",
    "        est <- unname(mod$coeff[2])\n",
    "        sd_est <- sqrt(vcovHC(mod, type = \"HC\")[2,2])\n",
    "        tmp <- est + c(-1, 1)*qnorm(1-alpha/2)*sd_est\n",
    "    }\n",
    "    return(tmp)\n",
    "}\n",
    "\n",
    "## HulC confidence interval\n",
    "print(\"HulC confidence interval:\")\n",
    "foo(100, 0, \"HulC\", alpha = 0.05)\n",
    "\n",
    "## Wald confidence interval\n",
    "print(\"Wald confidence interval:\")\n",
    "foo(100, 0, \"Wald\", alpha = 0.05)"
   ]
  },
  {
   "cell_type": "markdown",
   "id": "7b6f157b",
   "metadata": {},
   "source": [
    "## Simulation\n",
    "The following code chunk computes the HulC and Wald intervals for different sample sizes and different $\\gamma$ values. For reproducibility, the seed is set at 2021. For each sample size and $\\gamma$, we perform 1000 replications to compute the width and coverage."
   ]
  },
  {
   "cell_type": "code",
   "execution_count": 4,
   "id": "e9e0d975",
   "metadata": {},
   "outputs": [],
   "source": [
    "nsamp_seq <- c(20, 50, 100, 1000)\n",
    "## Simulation\n",
    "## Setting seed for reproducibility.\n",
    "set.seed(2021)\n",
    "name_seq <- c(\"HulC\", \"Wald\")\n",
    "nrep <- 1000\n",
    "rep_seq <- 1:nrep\n",
    "grid <- expand.grid(nsamp_seq, gamma_seq, name_seq, rep_seq)\n",
    "colnames(grid) <- c(\"nsamp\", \"gamma\", \"name\", \"rep\")\n",
    "width_mat <- data.frame(value = rep(0, nrow(grid)), gamma = grid$gamma, nsamp = grid$nsamp, name = grid$name, rep = grid$rep)\n",
    "cov_mat <- width_mat\n",
    "\n",
    "for(idx in 1:nrow(grid)){\n",
    "    #if(idx%%1000 == 0){\n",
    "    #  print(idx)\n",
    "    #}\n",
    "    tmp <- foo(grid[idx,1], grid[idx,2], grid[idx,3], alpha = 0.05)\n",
    "    width_mat[idx, 1] <- (tmp[2] - tmp[1])\n",
    "    true_beta <- proj_beta[paste0(\"gamma_\", grid[idx,2])]\n",
    "    cov_mat[idx, 1] <- (tmp[1] <= true_beta && true_beta <= tmp[2])\n",
    "}"
   ]
  },
  {
   "cell_type": "markdown",
   "id": "d3e52c95",
   "metadata": {},
   "source": [
    "## Plotting\n",
    "The following code computes the coverage for each method (HulC and Wald), each sample size, and each $\\gamma$ values. Also, for visualization, we plot the ratio of widths (HulC/Wald). Furthermore, this width ratio is truncated at 20 for visualization. In some (rare) replications, the width ratio is too high."
   ]
  },
  {
   "cell_type": "code",
   "execution_count": 5,
   "id": "6cf20d91",
   "metadata": {},
   "outputs": [],
   "source": [
    "# head(cov_mat)\n",
    "grid_new <- expand.grid(nsamp_seq, gamma_seq, name_seq)\n",
    "colnames(grid_new) <- c(\"nsamp\", \"gamma\", \"name\")\n",
    "col.cov<- data.frame(cov = rep(0, nrow(grid_new)), gamma = grid_new$gamma, nsamp = grid_new$nsamp, name = grid_new$name)\n",
    "for(idx in 1:nrow(grid_new)){\n",
    "  temp.width <- cov_mat[cov_mat$nsamp==grid_new[idx,\"nsamp\"],]\n",
    "  temp.width1 <- temp.width[temp.width$gamma==grid_new[idx,\"gamma\"],]\n",
    "  temp.width2 <- temp.width1[temp.width1$name==grid_new[idx,\"name\"],]\n",
    "  col.cov[idx,1] <- mean(temp.width2$value)\n",
    "}\n",
    "col.cov$type <- \"Coverage\"\n",
    "new_width_mat <- width_mat[width_mat$name == \"HulC\",]\n",
    "new_width_mat$value <- new_width_mat$value/width_mat[width_mat$name == \"Wald\",1]\n",
    "tmp_width_mat <- new_width_mat[new_width_mat$value <= 20,]\n",
    "tmp_width_mat$type <- \"Width Ratio\"\n",
    "\n",
    "# head(col.cov)\n",
    "# head(tmp_width_mat)"
   ]
  },
  {
   "cell_type": "code",
   "execution_count": 18,
   "id": "df3dc54a",
   "metadata": {},
   "outputs": [
    {
     "data": {
      "image/png": "[encoded data removed]",
      "text/plain": [
       "plot without title"
      ]
     },
     "metadata": {},
     "output_type": "display_data"
    }
   ],
   "source": [
    "library(\"ggplot2\")\n",
    "nominal_width_ratio_1 <- data.frame(x0 = seq(0, 1, len = 1000), y0 = rep(1, 1000))\n",
    "nominal_width_ratio_2 <- data.frame(x0 = seq(0, 1, len = 1000), y0 = rep(1.5, 1000))\n",
    "g1 <- ggplot(data = tmp_width_mat, mapping= aes(x=as.factor(gamma), y =value)) +\n",
    "  geom_boxplot(color=\"gray30\")+ \n",
    "  facet_grid(type~as.factor(nsamp)) + \n",
    "#   geom_step(nominal_width_ratio_1, mapping = aes(x = x0, y = y0), color = \"red\")+\n",
    "#   geom_step(nominal_width_ratio_2, mapping = aes(x = x0, y = y0), color = \"blue\")+\n",
    "  scale_x_discrete(labels = NULL, breaks = NULL) + \n",
    "  labs(x = \"\",y=\"\")+\n",
    "  theme(plot.margin=unit(c(0,0,0,.05), \"cm\"))+ \n",
    "  coord_cartesian(ylim=c(0, 7.5))+background_grid(major=\"y\", minor=\"none\")\n",
    "g1 <- g1 + scale_y_continuous(breaks=c(0, 1, 1.5, 2, 4, 6, 7), \n",
    "                    labels=c(\"0.0\", \"1.0\", \"1.5\", \"2\", \"4\", \"6\", \"7\"))\n",
    "g1 <- g1 + theme(axis.text.x=element_text(size = 13),\n",
    "                axis.text.y=element_text(size=13,color = c(\"black\", \"blue\", \"red\", \"black\", \"black\", \"black\", \"black\")),\n",
    "                axis.text=element_text(size=12),\n",
    "                axis.title=element_text(size=15,face=\"bold\"),\n",
    "                strip.text = element_text(size=15,face = \"bold\"),\n",
    "                axis.ticks.y = element_line(color = c(\"black\", \"blue\", \"red\", \"black\", \"black\", \"black\", \"black\"),\n",
    "                                    size = c(.5,0.5,0.5,.5,.5,.5,.5)))\n",
    "\n",
    "\n",
    "nominal_coverage <- data.frame(x0 = seq(0, 1, len = 1000), y0 = rep(0.95, 1000))\n",
    "levels(col.cov$name)[1] <- \"HulC\"\n",
    "g2<-ggplot(data= col.cov, mapping= aes(x=gamma, y =cov, col=name, group= as.factor(name))) +\n",
    "  ylim(.8, 0.96)+\n",
    "  geom_line(size = 1.1)+ \n",
    "  facet_grid(type~as.factor(nsamp)) + \n",
    "#   geom_line(nominal_coverage, mapping = aes(x = x0, y = y0), linetype = 2) + \n",
    "  theme(plot.margin=unit(c(0,0,0,-.2), \"cm\"),\n",
    "        legend.position=c(0.9,0.3),\n",
    "        strip.background.x = element_blank(),\n",
    "        legend.margin = margin(10, 10, 10, 10),\n",
    "        axis.text.x=element_text(size = 13),\n",
    "        axis.text.y=element_text(size=13),\n",
    "        axis.text=element_text(size=12),\n",
    "        legend.text=element_text(size=15, face = \"bold\"),\n",
    "        legend.title=element_text(size = 15, face = \"bold\"),\n",
    "        strip.text.x = element_blank(),    \n",
    "        axis.title=element_text(size=15,face=\"bold\"),\n",
    "        strip.text = element_text(size=15,face = \"bold\") )+ \n",
    "  labs(y=\"\", x=expression(gamma))+\n",
    "  background_grid(major=\"y\", minor=\"none\")+\n",
    "  scale_color_discrete(\"Method\")+\n",
    "  scale_x_continuous(breaks=c(0, 0.25, 0.5, 0.75, 1), \n",
    "                      labels=c(\"0\", \"0.25\", \"0.5\", \"0.75\", \"1\"))\n",
    "\n",
    "options(repr.plot.width=14, repr.plot.height=8)\n",
    "grid.arrange(g1,g2)"
   ]
  },
  {
   "cell_type": "markdown",
   "id": "f219e5e7",
   "metadata": {},
   "source": [
    "## Comparison with bootstrap"
   ]
  },
  {
   "cell_type": "code",
   "execution_count": 3,
   "id": "dec252b2",
   "metadata": {},
   "outputs": [
    {
     "name": "stdout",
     "output_type": "stream",
     "text": [
      "[1] \"HulC confidence interval:\"\n"
     ]
    },
    {
     "data": {
      "text/html": [
       "<ol class=list-inline>\n",
       "\t<li>1.99753787506477</li>\n",
       "\t<li>2.08641113798124</li>\n",
       "</ol>\n"
      ],
      "text/latex": [
       "\\begin{enumerate*}\n",
       "\\item 1.99753787506477\n",
       "\\item 2.08641113798124\n",
       "\\end{enumerate*}\n"
      ],
      "text/markdown": [
       "1. 1.99753787506477\n",
       "2. 2.08641113798124\n",
       "\n",
       "\n"
      ],
      "text/plain": [
       "[1] 1.997538 2.086411"
      ]
     },
     "metadata": {},
     "output_type": "display_data"
    },
    {
     "name": "stdout",
     "output_type": "stream",
     "text": [
      "[1] \"Wald confidence interval:\"\n"
     ]
    },
    {
     "data": {
      "text/html": [
       "<ol class=list-inline>\n",
       "\t<li>1.89076067871429</li>\n",
       "\t<li>2.03455767080323</li>\n",
       "</ol>\n"
      ],
      "text/latex": [
       "\\begin{enumerate*}\n",
       "\\item 1.89076067871429\n",
       "\\item 2.03455767080323\n",
       "\\end{enumerate*}\n"
      ],
      "text/markdown": [
       "1. 1.89076067871429\n",
       "2. 2.03455767080323\n",
       "\n",
       "\n"
      ],
      "text/plain": [
       "[1] 1.890761 2.034558"
      ]
     },
     "metadata": {},
     "output_type": "display_data"
    },
    {
     "name": "stdout",
     "output_type": "stream",
     "text": [
      "[1] \"Studentized bootstrap confidence interval:\"\n"
     ]
    },
    {
     "data": {
      "text/html": [
       "<ol class=list-inline>\n",
       "\t<li>1.96711470745139</li>\n",
       "\t<li>2.09817949147769</li>\n",
       "</ol>\n"
      ],
      "text/latex": [
       "\\begin{enumerate*}\n",
       "\\item 1.96711470745139\n",
       "\\item 2.09817949147769\n",
       "\\end{enumerate*}\n"
      ],
      "text/markdown": [
       "1. 1.96711470745139\n",
       "2. 2.09817949147769\n",
       "\n",
       "\n"
      ],
      "text/plain": [
       "[1] 1.967115 2.098179"
      ]
     },
     "metadata": {},
     "output_type": "display_data"
    }
   ],
   "source": [
    "foo <- function(nsamp, gamma, name, alpha = 0.05){\n",
    "    beta0 <- 1\n",
    "    beta1 <- 2\n",
    "    x <- runif(nsamp, 0, 10)\n",
    "    y <- beta0 + beta1*x + gamma*x^{1.7} + exp(gamma*x)*rnorm(nsamp)\n",
    "    data <- cbind(x, y)\n",
    "    if(name == \"HulC\"){\n",
    "        estimate <- function(dat_tmp){\n",
    "            fit <- lm(dat_tmp[,2] ~ dat_tmp[,1])\n",
    "            return(unname(fit$coeff)[2])\n",
    "        }\n",
    "        tmp <- as.vector(HulC(data, estimate, alpha = alpha, Delta = 0, dim = 1)$CI)\n",
    "    }\n",
    "    if(name == \"Wald\"){\n",
    "        mod <- lm(data[,2] ~ data[,1])\n",
    "        est <- unname(mod$coeff[2])\n",
    "        sd_est <- sqrt(vcovHC(mod, type = \"HC\")[2,2])\n",
    "        tmp <- est + c(-1, 1)*qnorm(1-alpha/2)*sd_est\n",
    "    }\n",
    "    if(name == \"basic_boot\"){\n",
    "        boot_coef <- function(DATA, indices){\n",
    "          dat_xy <- DATA[indices,]\n",
    "          mod <- lm(dat_xy[,2] ~ dat_xy[,1])\n",
    "          m <- unname(mod$coeff[2])\n",
    "          v <- sqrt(vcovHC(mod, type = \"HC\")[2,2])\n",
    "          return(c(m, v))\n",
    "        }        \n",
    "        boot_replicates <- boot(data, boot_coef, 500)\n",
    "#         print(boot_replicates)\n",
    "        tmp <- boot.ci(boot_replicates, conf = 1 - alpha, type = \"basic\")$basic[c(4,5)]\n",
    "    }\n",
    "    if(name == \"perc_boot\"){\n",
    "        boot_coef <- function(DATA, indices){\n",
    "          dat_xy <- DATA[indices,]\n",
    "          mod <- lm(dat_xy[,2] ~ dat_xy[,1])\n",
    "          m <- unname(mod$coeff[2])\n",
    "          v <- sqrt(vcovHC(mod, type = \"HC\")[2,2])\n",
    "          return(c(m, v))\n",
    "        }        \n",
    "        boot_replicates <- boot(data, boot_coef, 500)\n",
    "#         print(boot_replicates)\n",
    "        tmp <- boot.ci(boot_replicates, conf = 1 - alpha, type = \"perc\")$percent[c(4,5)]\n",
    "    }\n",
    "    return(tmp)\n",
    "}\n",
    "\n",
    "## HulC confidence interval\n",
    "print(\"HulC confidence interval:\")\n",
    "foo(100, 0, \"HulC\", alpha = 0.05)\n",
    "\n",
    "## Wald confidence interval\n",
    "print(\"Wald confidence interval:\")\n",
    "foo(100, 0, \"Wald\", alpha = 0.05)\n",
    "\n",
    "## Studentized bootstrap confidence interval\n",
    "print(\"Studentized bootstrap confidence interval:\")\n",
    "foo(100, 0, \"basic_boot\", alpha = 0.05)"
   ]
  },
  {
   "cell_type": "markdown",
   "id": "9a7a470f",
   "metadata": {},
   "source": [
    "# Simulation\n",
    "The following code compares HulC, Wald, and Bootstrap confidence intervals in terms of coverage and width."
   ]
  },
  {
   "cell_type": "code",
   "execution_count": 4,
   "id": "50df545d",
   "metadata": {},
   "outputs": [],
   "source": [
    "nsamp_seq <- c(20, 50, 100, 1000)\n",
    "## Simulation\n",
    "## Setting seed for reproducibility.\n",
    "set.seed(2021)\n",
    "name_seq <- c(\"HulC\", \"Wald\", \"basic_boot\", \"perc_boot\")\n",
    "nrep <- 200\n",
    "rep_seq <- 1:nrep\n",
    "grid <- expand.grid(nsamp_seq, gamma_seq, name_seq, rep_seq)\n",
    "colnames(grid) <- c(\"nsamp\", \"gamma\", \"name\", \"rep\")\n",
    "width_mat <- data.frame(value = rep(0, nrow(grid)), gamma = grid$gamma, nsamp = grid$nsamp, name = grid$name, rep = grid$rep)\n",
    "cov_mat <- width_mat\n",
    "\n",
    "for(idx in 1:nrow(grid)){\n",
    "    #if(idx%%1000 == 0){\n",
    "    #  print(idx)\n",
    "    #}\n",
    "    tmp <- foo(grid[idx,1], grid[idx,2], grid[idx,3], alpha = 0.05)\n",
    "    width_mat[idx, 1] <- (tmp[2] - tmp[1])\n",
    "    true_beta <- proj_beta[paste0(\"gamma_\", grid[idx,2])]\n",
    "    cov_mat[idx, 1] <- (tmp[1] <= true_beta && true_beta <= tmp[2])\n",
    "}"
   ]
  },
  {
   "cell_type": "code",
   "execution_count": 15,
   "id": "f2389a85",
   "metadata": {},
   "outputs": [],
   "source": [
    "save(cov_mat, width_mat, file = \"boot_simulation.RData\")"
   ]
  },
  {
   "cell_type": "markdown",
   "id": "9580f55b",
   "metadata": {},
   "source": [
    "## Plotting\n",
    "The following code provides a visual representation of the results."
   ]
  },
  {
   "cell_type": "code",
   "execution_count": 16,
   "id": "a13bd4ad",
   "metadata": {},
   "outputs": [
    {
     "data": {
      "image/png": "[encoded data removed]",
      "text/plain": [
       "plot without title"
      ]
     },
     "metadata": {},
     "output_type": "display_data"
    }
   ],
   "source": [
    "grid_new <- expand.grid(nsamp_seq, gamma_seq, name_seq)\n",
    "colnames(grid_new) <- c(\"nsamp\", \"gamma\", \"name\")\n",
    "col.cov<- data.frame(cov = rep(0, nrow(grid_new)), gamma = grid_new$gamma, nsamp = grid_new$nsamp, name = grid_new$name)\n",
    "for(idx in 1:nrow(grid_new)){\n",
    "  temp.width <- cov_mat[cov_mat$nsamp==grid_new[idx,\"nsamp\"],]\n",
    "  temp.width1 <- temp.width[temp.width$gamma==grid_new[idx,\"gamma\"],]\n",
    "  temp.width2 <- temp.width1[temp.width1$name==grid_new[idx,\"name\"],]\n",
    "  col.cov[idx,1] <- mean(temp.width2$value)\n",
    "}\n",
    "col.cov$type <- \"Coverage\"\n",
    "new_width_mat <- width_mat[width_mat$name == \"HulC\",]\n",
    "new_width_mat$value <- new_width_mat$value/width_mat[width_mat$name == \"Wald\",1]\n",
    "tmp_width_mat <- new_width_mat[new_width_mat$value <= 20,]\n",
    "tmp_width_mat$type <- \"Width Ratio\"\n",
    "\n",
    "library(\"ggplot2\")\n",
    "nominal_width_ratio_1 <- data.frame(x0 = seq(0, 1, len = 1000), y0 = rep(1, 1000))\n",
    "nominal_width_ratio_2 <- data.frame(x0 = seq(0, 1, len = 1000), y0 = rep(1.5, 1000))\n",
    "g1 <- ggplot(data = tmp_width_mat, mapping= aes(x=as.factor(gamma), y =value)) +\n",
    "  geom_boxplot(color=\"gray30\")+ \n",
    "  facet_grid(type~as.factor(nsamp)) + \n",
    "#   geom_step(nominal_width_ratio_1, mapping = aes(x = x0, y = y0), color = \"red\")+\n",
    "#   geom_step(nominal_width_ratio_2, mapping = aes(x = x0, y = y0), color = \"blue\")+\n",
    "  scale_x_discrete(labels = NULL, breaks = NULL) + \n",
    "  labs(x = \"\",y=\"\")+\n",
    "  theme(plot.margin=unit(c(0,0,0,.05), \"cm\"))+ \n",
    "#   coord_cartesian(ylim=c(0, 7.5))+\n",
    "background_grid(major=\"y\", minor=\"none\")\n",
    "g1 <- g1 + scale_y_continuous(breaks=c(0, 1, 1.5, 2, 4, 6, 7), \n",
    "                    labels=c(\"0.0\", \"1.0\", \"1.5\", \"2\", \"4\", \"6\", \"7\"))\n",
    "g1 <- g1 + theme(axis.text.x=element_text(size = 13),\n",
    "                axis.text.y=element_text(size=13,color = c(\"black\", \"blue\", \"red\", \"black\", \"black\", \"black\", \"black\")),\n",
    "                axis.text=element_text(size=12),\n",
    "                axis.title=element_text(size=15,face=\"bold\"),\n",
    "                strip.text = element_text(size=15,face = \"bold\"),\n",
    "                axis.ticks.y = element_line(color = c(\"black\", \"blue\", \"red\", \"black\", \"black\", \"black\", \"black\"),\n",
    "                                    size = c(.5,0.5,0.5,.5,.5,.5,.5)))\n",
    "#+\n",
    "#                 geom_hline(yintercept = 1.5,color=\"red\")+\n",
    "#                 geom_hline(yintercept=1,color=\"blue\")\n",
    "\n",
    "\n",
    "nominal_coverage <- data.frame(x0 = seq(0, 1, len = 1000), y0 = rep(0.95, 1000))\n",
    "levels(col.cov$name)[1] <- \"HulC\"\n",
    "g2<-ggplot(data= col.cov, mapping= aes(x=gamma, y =cov, col=name, group= as.factor(name))) +\n",
    "#   ylim(.8, 0.96)+\n",
    "  geom_line(size = 1.1)+ \n",
    "#  geom_hline(yintercept = 0.95, linetype = 2)+\n",
    "  facet_grid(type~as.factor(nsamp)) + \n",
    "#   geom_line(nominal_coverage, mapping = aes(x = x0, y = y0), linetype = 2) + \n",
    "  theme(plot.margin=unit(c(0,0,0,-.2), \"cm\"),\n",
    "        legend.position=c(0.9,0.2),\n",
    "        strip.background.x = element_blank(),\n",
    "        legend.margin = margin(10, 10, 10, 10),\n",
    "        axis.text.x=element_text(size = 13),\n",
    "        axis.text.y=element_text(size=13),\n",
    "        axis.text=element_text(size=12),\n",
    "        legend.text=element_text(size=15, face = \"bold\"),\n",
    "        legend.title=element_text(size = 15, face = \"bold\"),\n",
    "        strip.text.x = element_blank(),    \n",
    "        axis.title=element_text(size=15,face=\"bold\"),\n",
    "        strip.text = element_text(size=15,face = \"bold\") )+ \n",
    "  labs(y=\"\", x=expression(gamma))+\n",
    "  background_grid(major=\"y\", minor=\"none\")+\n",
    "  scale_color_discrete(\"Method\")+\n",
    "  scale_x_continuous(breaks=c(0, 0.25, 0.5, 0.75, 1), \n",
    "                      labels=c(\"0\", \"0.25\", \"0.5\", \"0.75\", \"1\"))\n",
    "\n",
    "options(repr.plot.width=14, repr.plot.height=8)\n",
    "grid.arrange(g1,g2)"
   ]
  }
 ],
 "metadata": {
  "kernelspec": {
   "display_name": "R",
   "language": "R",
   "name": "ir"
  },
  "language_info": {
   "codemirror_mode": "r",
   "file_extension": ".r",
   "mimetype": "text/x-r-source",
   "name": "R",
   "pygments_lexer": "r",
   "version": "3.6.1"
  }
 },
 "nbformat": 4,
 "nbformat_minor": 5
}

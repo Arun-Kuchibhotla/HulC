{
 "cells": [
  {
   "cell_type": "markdown",
   "id": "a871a9cd",
   "metadata": {},
   "source": [
    "# HulC, adaptive HulC, unimodal HulC, and adaptive unimodal HulC"
   ]
  },
  {
   "cell_type": "markdown",
   "id": "0b338b22",
   "metadata": {},
   "source": [
    "## Introduction\n",
    "For a univariate parameter, HulC and adaptive HulC return the minimum and maximum of B estimators computed on subsets of data. The quantity B depends on the median bias. HulC uses a known (asymptotic) median bias value and adaptive HulC estimates the unknown median bias based on subsampling. HulC and adaptive HulC have (asymptotically) valid coverage if the true median bias of the estimators is bounded away from $1/2$. If the median bias is $1/2$, then the estimator is pathologically asymmetric lying always on one side of the true parameter. \n",
    "\n",
    "For a univariate parameter, unimodal HulC returns an inflated convex hull. If $\\theta_{\\min}$ and $\\theta_{\\max}$ represent the minimum and maximum of $B$ estimators, then the unimodal HulC confidence interval is\n",
    "\\begin{equation*}\n",
    "\\left[\\theta_{\\min} - t(\\theta_{\\max} - \\theta_{\\min}),\\,\\theta_{\\max} + t(\\theta_{\\max} - \\theta_{\\min})\\right],\n",
    "\\end{equation*}\n",
    "for a tuning parameter $t > 0$. If the estimator is asymptotically unimodal and $t > 0$, then with any median bias value there exists a $B < \\infty$ such that the inflated convex hull has valid coverage asymptotically. Unimodal HulC can also account for the median bias. If the median bias is zero, then for $t > 0$ unimodal HulC can potentially uses less number of splits. But the inflation can result in larger width. Similar to adaptive HulC, one can estimate the median bias using subsampling and use this value in unimodal HulC. We call this method adaptive unimodal HulC. \n",
    "\n",
    "For most of the traditional estimators that are asymptotically Gaussian with mean zero, all the four methods apply and have valid coverage asymptotically. In the following, we compare the number of splits required, coverage, and width in different examples. "
   ]
  },
  {
   "cell_type": "code",
   "execution_count": 1,
   "id": "32373d66",
   "metadata": {},
   "outputs": [
    {
     "name": "stderr",
     "output_type": "stream",
     "text": [
      "Registered S3 methods overwritten by 'ggplot2':\n",
      "  method         from \n",
      "  [.quosures     rlang\n",
      "  c.quosures     rlang\n",
      "  print.quosures rlang\n",
      "Warning message:\n",
      "\"package 'cowplot' was built under R version 3.6.3\"Warning message:\n",
      "\"package 'gridExtra' was built under R version 3.6.3\""
     ]
    },
    {
     "data": {
      "text/html": [
       "<pre class=language-r><code>function (data, estimate, alpha = 0.05, Delta = 0, dim = 1, randomize = TRUE) \n",
       "NULL</code></pre>"
      ],
      "text/latex": [
       "\\begin{minted}{r}\n",
       "function (data, estimate, alpha = 0.05, Delta = 0, dim = 1, randomize = TRUE) \n",
       "NULL\n",
       "\\end{minted}"
      ],
      "text/markdown": [
       "```r\n",
       "function (data, estimate, alpha = 0.05, Delta = 0, dim = 1, randomize = TRUE) \n",
       "NULL\n",
       "```"
      ],
      "text/plain": [
       "function (data, estimate, alpha = 0.05, Delta = 0, dim = 1, randomize = TRUE) \n",
       "NULL"
      ]
     },
     "metadata": {},
     "output_type": "display_data"
    },
    {
     "data": {
      "text/html": [
       "<pre class=language-r><code>function (data, estimate, alpha = 0.05, dim = 1, subsamp_exp = 2/3, \n",
       "<span style=white-space:pre-wrap>    nsub = 1000, randomize = TRUE) </span>\n",
       "NULL</code></pre>"
      ],
      "text/latex": [
       "\\begin{minted}{r}\n",
       "function (data, estimate, alpha = 0.05, dim = 1, subsamp\\_exp = 2/3, \n",
       "    nsub = 1000, randomize = TRUE) \n",
       "NULL\n",
       "\\end{minted}"
      ],
      "text/markdown": [
       "```r\n",
       "function (data, estimate, alpha = 0.05, dim = 1, subsamp_exp = 2/3, \n",
       "    nsub = 1000, randomize = TRUE) \n",
       "NULL\n",
       "```"
      ],
      "text/plain": [
       "function (data, estimate, alpha = 0.05, dim = 1, subsamp_exp = 2/3, \n",
       "    nsub = 1000, randomize = TRUE) \n",
       "NULL"
      ]
     },
     "metadata": {},
     "output_type": "display_data"
    },
    {
     "data": {
      "text/html": [
       "<pre class=language-r><code>function (data, estimate, alpha = 0.05, Delta = 1/2, t = 0.1, \n",
       "<span style=white-space:pre-wrap>    dim = 1, randomize = TRUE) </span>\n",
       "NULL</code></pre>"
      ],
      "text/latex": [
       "\\begin{minted}{r}\n",
       "function (data, estimate, alpha = 0.05, Delta = 1/2, t = 0.1, \n",
       "    dim = 1, randomize = TRUE) \n",
       "NULL\n",
       "\\end{minted}"
      ],
      "text/markdown": [
       "```r\n",
       "function (data, estimate, alpha = 0.05, Delta = 1/2, t = 0.1, \n",
       "    dim = 1, randomize = TRUE) \n",
       "NULL\n",
       "```"
      ],
      "text/plain": [
       "function (data, estimate, alpha = 0.05, Delta = 1/2, t = 0.1, \n",
       "    dim = 1, randomize = TRUE) \n",
       "NULL"
      ]
     },
     "metadata": {},
     "output_type": "display_data"
    },
    {
     "data": {
      "text/html": [
       "<pre class=language-r><code>function (data, estimate, alpha = 0.05, t = 0.1, dim = 1, subsamp_exp = 2/3, \n",
       "<span style=white-space:pre-wrap>    nsub = 1000, randomize = TRUE) </span>\n",
       "NULL</code></pre>"
      ],
      "text/latex": [
       "\\begin{minted}{r}\n",
       "function (data, estimate, alpha = 0.05, t = 0.1, dim = 1, subsamp\\_exp = 2/3, \n",
       "    nsub = 1000, randomize = TRUE) \n",
       "NULL\n",
       "\\end{minted}"
      ],
      "text/markdown": [
       "```r\n",
       "function (data, estimate, alpha = 0.05, t = 0.1, dim = 1, subsamp_exp = 2/3, \n",
       "    nsub = 1000, randomize = TRUE) \n",
       "NULL\n",
       "```"
      ],
      "text/plain": [
       "function (data, estimate, alpha = 0.05, t = 0.1, dim = 1, subsamp_exp = 2/3, \n",
       "    nsub = 1000, randomize = TRUE) \n",
       "NULL"
      ]
     },
     "metadata": {},
     "output_type": "display_data"
    }
   ],
   "source": [
    "### HulC.R contains all the functions related to the HulC procedure.\n",
    "source(\"HulC.R\")\n",
    "\n",
    "### loading necessary packages for computation and plotting.\n",
    "library(\"sandwich\")\n",
    "library(ggplot2)\n",
    "library(\"cowplot\")\n",
    "library(\"gridExtra\")\n",
    "library(\"repr\")\n",
    "args(HulC)\n",
    "args(adaptive_HulC)\n",
    "args(unimodal_HulC)\n",
    "args(adaptive_unimodal_HulC)"
   ]
  },
  {
   "cell_type": "markdown",
   "id": "80c9c887",
   "metadata": {},
   "source": [
    "## Normal Mean Problem\n",
    "In the following, we consider the problem of confidence interval for the mean of a normal random variable. In this case, the sample mean estimator is symmetric around the true mean and hence $\\Delta = 0$. "
   ]
  },
  {
   "cell_type": "code",
   "execution_count": 2,
   "id": "16e1e372",
   "metadata": {},
   "outputs": [
    {
     "name": "stdout",
     "output_type": "stream",
     "text": [
      "[1] \"HulC:\"\n",
      "[1] -0.3442454  0.4508495  0.0000000  5.0000000\n",
      "[1] \"Unimodal HulC:\"\n",
      "[1] -0.3442454  0.4508495  0.0000000  5.0000000\n"
     ]
    }
   ],
   "source": [
    "## Unimodal HulC with Delta = 0, t = 0 is same as HulC with Delta = 0\n",
    "set.seed(100)\n",
    "x <- rnorm(100)\n",
    "tmp_hulc <- HulC(x, mean)\n",
    "print(\"HulC:\")\n",
    "print(c(tmp_hulc$CI, tmp_hulc$medi, tmp_hulc$B))\n",
    "set.seed(100)\n",
    "x <- rnorm(100)\n",
    "tmp_uhulc <- unimodal_HulC(x, mean, Delta = 0, t = 0.0)\n",
    "print(\"Unimodal HulC:\")\n",
    "print(c(tmp_uhulc$CI, tmp_uhulc$medi, tmp_uhulc$B))"
   ]
  },
  {
   "cell_type": "code",
   "execution_count": 3,
   "id": "553c71ee",
   "metadata": {},
   "outputs": [
    {
     "name": "stdout",
     "output_type": "stream",
     "text": [
      "[1] \"HulC:\"\n",
      "[1] -0.3442454  0.4508495  0.0000000  5.0000000\n",
      "[1] \"Adaptive HulC:\"\n",
      "[1] -0.3417399  0.2134533  0.0030000  5.0000000\n",
      "[1] \"Unimodal HulC:\"\n",
      "[1] -0.4513943  0.8455475  0.0000000  5.0000000\n",
      "[1] \"Adaptive Unimodal HulC:\"\n",
      "[1] -0.4732013  0.5115113  0.0070000  5.0000000\n"
     ]
    }
   ],
   "source": [
    "## one replication\n",
    "set.seed(100)\n",
    "x <- rnorm(100)\n",
    "\n",
    "tmp_hulc <- HulC(x, mean)\n",
    "print(\"HulC:\")\n",
    "print(c(tmp_hulc$CI, tmp_hulc$medi, tmp_hulc$B))\n",
    "\n",
    "tmp_ahulc <- adaptive_HulC(x, mean)\n",
    "print(\"Adaptive HulC:\")\n",
    "print(c(tmp_ahulc$CI, tmp_ahulc$medi, tmp_ahulc$B))\n",
    "\n",
    "tmp_uhulc <- unimodal_HulC(x, mean, Delta = 0, t = 0.1)\n",
    "print(\"Unimodal HulC:\")\n",
    "print(c(tmp_uhulc$CI, tmp_uhulc$medi, tmp_uhulc$B))\n",
    "\n",
    "tmp_auhulc <- adaptive_unimodal_HulC(x, mean, t = 0.1)\n",
    "print(\"Adaptive Unimodal HulC:\")\n",
    "print(c(tmp_auhulc$CI, tmp_auhulc$medi, tmp_auhulc$B))"
   ]
  },
  {
   "cell_type": "code",
   "execution_count": 4,
   "id": "0662669a",
   "metadata": {},
   "outputs": [
    {
     "data": {
      "text/html": [
       "<table>\n",
       "<thead><tr><th scope=col>ci_lwr</th><th scope=col>ci_upr</th><th scope=col>width_ratio</th><th scope=col>coverage</th><th scope=col>B</th><th scope=col>method</th><th scope=col>nsamp</th></tr></thead>\n",
       "<tbody>\n",
       "\t<tr><td>-0.5541668</td><td>0.1316315 </td><td>3.401660  </td><td>1         </td><td>5         </td><td>HulC      </td><td>100       </td></tr>\n",
       "\t<tr><td>-0.3160997</td><td>0.3377094 </td><td>3.202530  </td><td>1         </td><td>6         </td><td>HulC      </td><td>100       </td></tr>\n",
       "\t<tr><td>-0.1510335</td><td>0.3692332 </td><td>2.575008  </td><td>1         </td><td>5         </td><td>HulC      </td><td>100       </td></tr>\n",
       "\t<tr><td>-0.3915441</td><td>0.3202445 </td><td>3.621438  </td><td>1         </td><td>5         </td><td>HulC      </td><td>100       </td></tr>\n",
       "\t<tr><td>-0.2555961</td><td>0.3369879 </td><td>3.012874  </td><td>1         </td><td>6         </td><td>HulC      </td><td>100       </td></tr>\n",
       "\t<tr><td>-0.1972266</td><td>0.1923163 </td><td>2.136466  </td><td>1         </td><td>5         </td><td>HulC      </td><td>100       </td></tr>\n",
       "</tbody>\n",
       "</table>\n"
      ],
      "text/latex": [
       "\\begin{tabular}{r|lllllll}\n",
       " ci\\_lwr & ci\\_upr & width\\_ratio & coverage & B & method & nsamp\\\\\n",
       "\\hline\n",
       "\t -0.5541668 & 0.1316315  & 3.401660   & 1          & 5          & HulC       & 100       \\\\\n",
       "\t -0.3160997 & 0.3377094  & 3.202530   & 1          & 6          & HulC       & 100       \\\\\n",
       "\t -0.1510335 & 0.3692332  & 2.575008   & 1          & 5          & HulC       & 100       \\\\\n",
       "\t -0.3915441 & 0.3202445  & 3.621438   & 1          & 5          & HulC       & 100       \\\\\n",
       "\t -0.2555961 & 0.3369879  & 3.012874   & 1          & 6          & HulC       & 100       \\\\\n",
       "\t -0.1972266 & 0.1923163  & 2.136466   & 1          & 5          & HulC       & 100       \\\\\n",
       "\\end{tabular}\n"
      ],
      "text/markdown": [
       "\n",
       "| ci_lwr | ci_upr | width_ratio | coverage | B | method | nsamp |\n",
       "|---|---|---|---|---|---|---|\n",
       "| -0.5541668 | 0.1316315  | 3.401660   | 1          | 5          | HulC       | 100        |\n",
       "| -0.3160997 | 0.3377094  | 3.202530   | 1          | 6          | HulC       | 100        |\n",
       "| -0.1510335 | 0.3692332  | 2.575008   | 1          | 5          | HulC       | 100        |\n",
       "| -0.3915441 | 0.3202445  | 3.621438   | 1          | 5          | HulC       | 100        |\n",
       "| -0.2555961 | 0.3369879  | 3.012874   | 1          | 6          | HulC       | 100        |\n",
       "| -0.1972266 | 0.1923163  | 2.136466   | 1          | 5          | HulC       | 100        |\n",
       "\n"
      ],
      "text/plain": [
       "  ci_lwr     ci_upr    width_ratio coverage B method nsamp\n",
       "1 -0.5541668 0.1316315 3.401660    1        5 HulC   100  \n",
       "2 -0.3160997 0.3377094 3.202530    1        6 HulC   100  \n",
       "3 -0.1510335 0.3692332 2.575008    1        5 HulC   100  \n",
       "4 -0.3915441 0.3202445 3.621438    1        5 HulC   100  \n",
       "5 -0.2555961 0.3369879 3.012874    1        6 HulC   100  \n",
       "6 -0.1972266 0.1923163 2.136466    1        5 HulC   100  "
      ]
     },
     "metadata": {},
     "output_type": "display_data"
    },
    {
     "data": {
      "text/plain": [
       "\n",
       " 100  250  500 \n",
       "4000 4000 4000 "
      ]
     },
     "metadata": {},
     "output_type": "display_data"
    },
    {
     "data": {
      "text/plain": [
       "\n",
       "  HulC  aHulC  uHulC auHulC \n",
       "  3000   3000   3000   3000 "
      ]
     },
     "metadata": {},
     "output_type": "display_data"
    }
   ],
   "source": [
    "alpha <- 0.05\n",
    "foo <- function(x, method){\n",
    "    if(method == \"HulC\"){\n",
    "        return(HulC(x, mean, alpha = alpha))\n",
    "    }\n",
    "    if(method == \"aHulC\"){\n",
    "        return(adaptive_HulC(x, mean, alpha = alpha))\n",
    "    }\n",
    "    if(method == \"uHulC\"){\n",
    "        return(unimodal_HulC(x, mean, Delta = 0, t = 0.1, alpha = alpha))\n",
    "    }\n",
    "    if(method == \"auHulC\"){\n",
    "        return(adaptive_unimodal_HulC(x, mean, t = 0.1, alpha = alpha))\n",
    "    }\n",
    "}\n",
    "\n",
    "set.seed(2021)\n",
    "nrep <- 1000\n",
    "nsamp_seq <- c(100, 250, 500)\n",
    "method_seq <- c(\"HulC\", \"aHulC\", \"uHulC\", \"auHulC\")\n",
    "grid <- expand.grid(1:nrep, method_seq, nsamp_seq)\n",
    "### width_ratio stores the ratio of width of the method to the\n",
    "### Wald interval.\n",
    "mat <- data.frame(ci_lwr = rep(0, nrow(grid)), ci_upr = rep(0, nrow(grid)),\n",
    "                  width_ratio = rep(0, nrow(grid)), coverage = rep(0, nrow(grid)),\n",
    "                 B = rep(1, nrow(grid)), method = grid[,2], nsamp = grid[,3], rep = grid[,1])\n",
    "\n",
    "for(idx in 1:nrow(grid)){\n",
    "    x <- rnorm(mat$nsamp[idx])\n",
    "    tmp <- foo(x, mat$method[idx])\n",
    "    mat$ci_lwr[idx] <- tmp$CI[,\"lwr\"]\n",
    "    mat$ci_upr[idx] <- tmp$CI[,\"upr\"]\n",
    "    mat$width_ratio[idx] <- (mat$ci_upr[idx] - mat$ci_lwr[idx])*sqrt(mat$nsamp[idx])/(qnorm(1 - alpha/2)*sd(x))\n",
    "    mat$coverage[idx] <- (mat$ci_upr[idx]*mat$ci_lwr[idx] <= 0)\n",
    "    mat$B[idx] <- tmp$B\n",
    "}\n",
    "head(mat)\n",
    "table(mat$nsamp)\n",
    "table(mat$method)"
   ]
  },
  {
   "cell_type": "markdown",
   "id": "825c6a2f",
   "metadata": {},
   "source": [
    "### Comparison in terms of the number of Splits"
   ]
  },
  {
   "cell_type": "code",
   "execution_count": 5,
   "id": "43d9889a",
   "metadata": {},
   "outputs": [
    {
     "name": "stdout",
     "output_type": "stream",
     "text": [
      "Proportion of times the number of splits for HulC is 5 or 6:\n"
     ]
    },
    {
     "data": {
      "text/plain": [
       "\n",
       "        5         6 \n",
       "0.6046667 0.3953333 "
      ]
     },
     "metadata": {},
     "output_type": "display_data"
    },
    {
     "name": "stdout",
     "output_type": "stream",
     "text": [
      "Proportion of times the number of splits for adaptive HulC is 5 or 6:\n"
     ]
    },
    {
     "data": {
      "text/plain": [
       "\n",
       "        5         6 \n",
       "0.5813333 0.4186667 "
      ]
     },
     "metadata": {},
     "output_type": "display_data"
    },
    {
     "name": "stdout",
     "output_type": "stream",
     "text": [
      "Proportion of times the number of splits for unimodal HulC is 4 or 5:\n"
     ]
    },
    {
     "data": {
      "text/plain": [
       "\n",
       "        4         5 \n",
       "0.1443333 0.8556667 "
      ]
     },
     "metadata": {},
     "output_type": "display_data"
    },
    {
     "name": "stdout",
     "output_type": "stream",
     "text": [
      "Proportion of times the number of splits for adpative unimodal HulC is 4 or 5:\n"
     ]
    },
    {
     "data": {
      "text/plain": [
       "\n",
       "    4     5 \n",
       "0.133 0.867 "
      ]
     },
     "metadata": {},
     "output_type": "display_data"
    }
   ],
   "source": [
    "cat(\"Proportion of times the number of splits for HulC is 5 or 6:\\n\")\n",
    "table(mat[mat$method == \"HulC\", \"B\"])/length(mat[mat$method == \"HulC\", \"B\"])\n",
    "cat(\"Proportion of times the number of splits for adaptive HulC is 5 or 6:\\n\")\n",
    "table(mat[mat$method == \"aHulC\", \"B\"])/length(mat[mat$method == \"aHulC\", \"B\"])\n",
    "cat(\"Proportion of times the number of splits for unimodal HulC is 4 or 5:\\n\")\n",
    "table(mat[mat$method == \"uHulC\", \"B\"])/length(mat[mat$method == \"uHulC\", \"B\"])\n",
    "cat(\"Proportion of times the number of splits for adpative unimodal HulC is 4 or 5:\\n\")\n",
    "table(mat[mat$method == \"auHulC\", \"B\"])/length(mat[mat$method == \"auHulC\", \"B\"])"
   ]
  },
  {
   "cell_type": "markdown",
   "id": "2412ec55",
   "metadata": {},
   "source": [
    "We notice the number of splits is about 5 for all methods. HulC and adaptive HulC require 6 splits larger proportion of times. Unimodal and adaptive unimodal HulC methods tend to require smaller number of splits (5). "
   ]
  },
  {
   "cell_type": "markdown",
   "id": "bccb2573",
   "metadata": {},
   "source": [
    "### Comparison in terms of coverage"
   ]
  },
  {
   "cell_type": "code",
   "execution_count": 6,
   "id": "87a9e435",
   "metadata": {},
   "outputs": [
    {
     "name": "stdout",
     "output_type": "stream",
     "text": [
      "Coverage for sample size: 100 \n",
      "  HulC  aHulC  uHulC auHulC \n",
      " 0.954  0.943  0.953  0.959 \n",
      "Coverage for sample size: 250 \n",
      "  HulC  aHulC  uHulC auHulC \n",
      " 0.959  0.937  0.956  0.956 \n",
      "Coverage for sample size: 500 \n",
      "  HulC  aHulC  uHulC auHulC \n",
      " 0.957  0.957  0.941  0.948 \n"
     ]
    }
   ],
   "source": [
    "options(repr.plot.width=14, repr.plot.height=8)\n",
    "# par(mfrow = c(1, 3), cex.lab=1.5, cex.axis = 1.5)\n",
    "for(nsamp in nsamp_seq){\n",
    "    nsamp_mat <- c(mean(mat[mat$nsamp == nsamp & mat$method == \"HulC\", \"coverage\"]),\n",
    "                  mean(mat[mat$nsamp == nsamp & mat$method == \"aHulC\", \"coverage\"]),\n",
    "                  mean(mat[mat$nsamp == nsamp & mat$method == \"uHulC\", \"coverage\"]),\n",
    "                  mean(mat[mat$nsamp == nsamp & mat$method == \"auHulC\", \"coverage\"]))\n",
    "    names(nsamp_mat) <- c(\"HulC\", \"aHulC\", \"uHulC\", \"auHulC\")\n",
    "    cat(paste(\"Coverage for sample size:\", nsamp), \"\\n\")\n",
    "    print(nsamp_mat)\n",
    "}"
   ]
  },
  {
   "cell_type": "markdown",
   "id": "cbea522f",
   "metadata": {},
   "source": [
    "The coverage for all the methods at all sample sizes is very close to 0.95. "
   ]
  },
  {
   "cell_type": "markdown",
   "id": "64012397",
   "metadata": {},
   "source": [
    "### Comparison in terms of width"
   ]
  },
  {
   "cell_type": "code",
   "execution_count": 8,
   "id": "63a914e4",
   "metadata": {},
   "outputs": [
    {
     "data": {
      "image/png": "[encoded data removed]",
      "text/plain": [
       "Plot with title \"sample size:  500\""
      ]
     },
     "metadata": {},
     "output_type": "display_data"
    }
   ],
   "source": [
    "options(repr.plot.width=14, repr.plot.height=6)\n",
    "par(mfrow = c(1, 3), cex.lab=1.5, cex.axis = 1.5)\n",
    "for(nsamp in nsamp_seq){\n",
    "    nsamp_mat <- cbind(mat[mat$nsamp == nsamp & mat$method == \"HulC\", \"width_ratio\"],\n",
    "                      mat[mat$nsamp == nsamp & mat$method == \"aHulC\", \"width_ratio\"],\n",
    "                      mat[mat$nsamp == nsamp & mat$method == \"uHulC\", \"width_ratio\"],\n",
    "                      mat[mat$nsamp == nsamp & mat$method == \"auHulC\", \"width_ratio\"])\n",
    "    colnames(nsamp_mat) <- c(\"HulC\", \"aHulC\", \"uHulC\", \"auHulC\")\n",
    "    boxplot(nsamp_mat, cex.lab = 1.5)\n",
    "    title(paste(\"sample size: \", nsamp), cex.main = 2)\n",
    "}\n",
    "# nsamp_seq\n",
    "# table(mat$nsamp)\n",
    "# table(mat$method)"
   ]
  },
  {
   "cell_type": "markdown",
   "id": "19937400",
   "metadata": {},
   "source": [
    "The plot above shows the ratio of width of the HulC procedures to the Wald confidence interval. We note that the width is on average larger for unimodal and adaptive unimodal HulC procedures. The width is similar between the HulC and adaptive HulC procedures (with and without unimodality). The width ratio is similar across sample sizes (between 100 and 500)."
   ]
  },
  {
   "cell_type": "markdown",
   "id": "778c3bdb",
   "metadata": {},
   "source": [
    "## Behavior of unimodal HulC as t changes\n",
    "In the following, we compare the performance of unimodal HulC and adaptive unimodal HulC as t changes from $0$ to $2$."
   ]
  },
  {
   "cell_type": "code",
   "execution_count": null,
   "id": "f69a9a9d",
   "metadata": {},
   "outputs": [],
   "source": [
    "alpha <- 0.05\n",
    "foo <- function(x, method, t){\n",
    "    if(method == \"HulC\"){\n",
    "        return(HulC(x, mean, alpha = alpha))\n",
    "    }\n",
    "    if(method == \"aHulC\"){\n",
    "        return(adaptive_HulC(x, mean, alpha = alpha))\n",
    "    }\n",
    "    if(method == \"uHulC\"){\n",
    "        return(unimodal_HulC(x, mean, Delta = 0, t = t, alpha = alpha))\n",
    "    }\n",
    "    if(method == \"auHulC\"){\n",
    "        return(adaptive_unimodal_HulC(x, mean, t = t, alpha = alpha))\n",
    "    }\n",
    "}\n",
    "\n",
    "set.seed(2021)\n",
    "nrep <- 1000\n",
    "nsamp_seq <- c(100, 250, 500)\n",
    "t_seq <- seq(0, 2, length = 100)\n",
    "method_seq <- c(\"uHulC\")\n",
    "grid <- expand.grid(1:nrep, method_seq, nsamp_seq, t_seq)\n",
    "### width_ratio stores the ratio of width of the method to the\n",
    "### Wald interval.\n",
    "mat <- data.frame(width_ratio = rep(0, nrow(grid)), coverage = rep(0, nrow(grid)),\n",
    "                 B = rep(1, nrow(grid)), method = grid[,2], nsamp = grid[,3], t = grid[,4], rep = grid[,1])\n",
    "\n",
    "for(idx in 1:nrow(grid)){\n",
    "    x <- rnorm(mat$nsamp[idx])\n",
    "    tmp <- foo(x, mat$method[idx])\n",
    "    tmp_HulC <- foo(x, \"HulC\")\n",
    "    mat$width_ratio[idx] <- diff(tmp$CI)/diff(tmp_HulC$CI)\n",
    "    mat$coverage[idx] <- (prod(tmp$CI) <= 0)\n",
    "    mat$B[idx] <- tmp$B\n",
    "}\n",
    "head(mat)"
   ]
  },
  {
   "cell_type": "markdown",
   "id": "34a6fbbd",
   "metadata": {},
   "source": [
    "### Comparison in terms of coverage\n",
    "We now compute the coverage of unimodal HulC as $t$ changes."
   ]
  },
  {
   "cell_type": "code",
   "execution_count": null,
   "id": "b64e7830",
   "metadata": {},
   "outputs": [],
   "source": []
  }
 ],
 "metadata": {
  "kernelspec": {
   "display_name": "R",
   "language": "R",
   "name": "ir"
  },
  "language_info": {
   "codemirror_mode": "r",
   "file_extension": ".r",
   "mimetype": "text/x-r-source",
   "name": "R",
   "pygments_lexer": "r",
   "version": "3.6.1"
  }
 },
 "nbformat": 4,
 "nbformat_minor": 5
}

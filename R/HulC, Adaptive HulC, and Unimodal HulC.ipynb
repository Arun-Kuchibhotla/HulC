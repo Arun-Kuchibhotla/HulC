{
 "cells": [
  {
   "cell_type": "markdown",
   "id": "64021660",
   "metadata": {},
   "source": [
    "# HulC, adaptive HulC, and unimodal HulC"
   ]
  },
  {
   "cell_type": "code",
   "execution_count": 4,
   "id": "19b77b40",
   "metadata": {},
   "outputs": [
    {
     "name": "stdout",
     "output_type": "stream",
     "text": [
      " int [1:10] 0 0 0 0 0 0 0 0 0 0\n"
     ]
    }
   ],
   "source": [
    "B <- rep(0L, 10)\n",
    "str(B)"
   ]
  }
 ],
 "metadata": {
  "kernelspec": {
   "display_name": "R",
   "language": "R",
   "name": "ir"
  },
  "language_info": {
   "codemirror_mode": "r",
   "file_extension": ".r",
   "mimetype": "text/x-r-source",
   "name": "R",
   "pygments_lexer": "r",
   "version": "3.6.1"
  }
 },
 "nbformat": 4,
 "nbformat_minor": 5
}

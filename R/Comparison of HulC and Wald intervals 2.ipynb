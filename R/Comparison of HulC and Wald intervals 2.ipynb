{
 "cells": [
  {
   "cell_type": "markdown",
   "id": "f4baaa23",
   "metadata": {},
   "source": [
    "# Comparison of HulC and Wald intervals:\n",
    "## Multiple Linear Regression"
   ]
  },
  {
   "cell_type": "code",
   "execution_count": 5,
   "id": "d0a89453",
   "metadata": {},
   "outputs": [],
   "source": [
    "### HulC.R contains all the functions to the HulC procedure.\n",
    "source(\"HulC.R\")\n",
    "\n",
    "### loading necessary packages for computation and plotting.\n",
    "library(\"sandwich\")\n",
    "library(\"ggplot2\")\n",
    "library(\"cowplot\")\n",
    "library(\"gridExtra\")\n",
    "library(\"repr\")\n",
    "library(\"boot\")"
   ]
  },
  {
   "cell_type": "markdown",
   "id": "e7ed1375",
   "metadata": {},
   "source": [
    "In the following, we will compare the HulC and Wald confidence intervals for the slope of one of the covariates from a multiple linear regression. We have observations $(X_i, Y_i), 1\\le i\\le n$ from the model\n",
    "$Y_i = |\\theta_0^{\\top}X_i| + \\xi_i$, where $\\xi_i\\sim N(0, 1)$ and $X_i\\in\\mathbb{R}^6$ is generated according to the following law: $$(X_{i,1}, X_{i,2}) \\sim \\text{Uniform} [-1,1]^2,$$ $$ X_{i,3}:=0.2 X_{i,1}+ 0.2 (X_{i,2}+2)^2+0.2 Z_{i,1},$$ $$X_{i,4}:=0.1+ 0.1(X_{i,1}+X_{i,2})+0.3(X_{i,1}+1.5)^2+  0.2 Z_{i,2},$$ $$X_{i,5} \\sim \\text{Ber}(\\exp(X_{i,1})/\\{1+\\exp(X_{i,1})\\}),$$ and  $$ X_{i,6} \\sim \\text{Ber}(\\exp(X_{i,2})/\\{1+\\exp(X_{i,2})\\}).$$ Here $(Z_{i,1}, Z_{i,2})\\sim\\text{Uniform} [-1,1]^2$ is independent of $(X_{i,1},X_{i,2})$ and $\\theta_0 = (1.3, -1.3, 1, -0.5, -0.5, -0.5)/\\sqrt{5.13}$. This is a misspecified linear regression model. Our estimator and target are defined as\n",
    "$$\n",
    "(\\widehat{\\alpha},\\widehat{\\beta},\\widehat{\\gamma}) := \\underset{\\alpha,\\beta,\\gamma}{\\text{argmin}}\\,\\frac{1}{n}\\sum_{i=1}^n (Y_i - \\alpha - \\beta X_{i,1}^2 - \\gamma^{\\top}X_{i,-1})^2,\\quad\\mbox{and}\\quad (\\alpha^*, \\beta^*, \\gamma^*) := \\underset{\\alpha,\\beta,\\gamma}{\\text{argmin}}\\,\\mathbb{E}[(Y - \\alpha - \\beta X_1 - \\gamma^{\\top}X_{-1})^2],\n",
    "$$\n",
    "where $X_{i,-1}$ and $X_{-1}$ represent the last 5 coordinates of $X_{i}$ and $X$ respectively. With Monte Carlo approximation of $\\mathbb{E}[\\cdot]$, we found that $\\beta^* = -0.137323$. This Monte-Carlo computation is done in the following code."
   ]
  },
  {
   "cell_type": "code",
   "execution_count": 3,
   "id": "536de884",
   "metadata": {},
   "outputs": [],
   "source": [
    "# This is computed using a Monte Carlo simulation below with 1e08 samples from the model. \n",
    "# nsamp <- 1e08\n",
    "# x1 <- runif(nsamp,-1,1)\n",
    "# x2 <- runif(nsamp,-1,1)\n",
    "# e1 <- runif(nsamp,-1,1)\n",
    "# e2 <- runif(nsamp,-1,1)\n",
    "# x3 <- 0.2*x1 + 0.2*(x2 + 2)^2 + 0.2*e1\n",
    "# x4 <- 0.1 + 0.1*(x1 + x2) + 0.3*(x1 + 1.5)^2 + 0.2*e2\n",
    "# x5 <- rbinom(nsamp,1,exp(x1)/{1 + exp(x1)})\n",
    "# x6 <- rbinom(nsamp,1,exp(x2)/{1 + exp(x2)})\n",
    "# x <- cbind(x1,x2,x3,x4,x5,x6)\n",
    "# beta0 <- c(1.3, -1.3, 1, -0.5, 0.5, -0.5)/sqrt(5.13)\n",
    "# m0 <- function(t){\n",
    "#   return(abs(t))\n",
    "# }\n",
    "# y <- m0(x%*%beta0) + rnorm(nsamp)\n",
    "# proj_beta <- unname(lm(y ~ x)$coefficients[2])\n",
    "proj_beta <- -0.137323"
   ]
  },
  {
   "cell_type": "markdown",
   "id": "c798ea4c",
   "metadata": {},
   "source": [
    "Our aim is to construct a confidence interval for $\\beta^*$. Note that $\\widehat{\\beta}$ is a consistent estimator for $\\beta^*$. The classical Wald interval with sandwich covariance matrix is an asymptotically valid confidence interval for $\\beta^*$. Because the limiting distribution is Gaussian, the asymptotic median bias of $\\widehat{\\beta}$ is zero and hence HulC can be applied with $\\Delta = 0$. The following function (`foo`) generates data from the model above and computes the HulC as well as Wald confidence interval at $95\\%$ level."
   ]
  },
  {
   "cell_type": "code",
   "execution_count": 4,
   "id": "c99e7dce",
   "metadata": {},
   "outputs": [
    {
     "name": "stdout",
     "output_type": "stream",
     "text": [
      "[1] \"HulC confidence interval:\"\n"
     ]
    },
    {
     "data": {
      "text/html": [
       "<ol class=list-inline>\n",
       "\t<li>-6.4335100369183</li>\n",
       "\t<li>9.26485871589805</li>\n",
       "</ol>\n"
      ],
      "text/latex": [
       "\\begin{enumerate*}\n",
       "\\item -6.4335100369183\n",
       "\\item 9.26485871589805\n",
       "\\end{enumerate*}\n"
      ],
      "text/markdown": [
       "1. -6.4335100369183\n",
       "2. 9.26485871589805\n",
       "\n",
       "\n"
      ],
      "text/plain": [
       "[1] -6.433510  9.264859"
      ]
     },
     "metadata": {},
     "output_type": "display_data"
    },
    {
     "name": "stdout",
     "output_type": "stream",
     "text": [
      "[1] \"Wald confidence interval:\"\n"
     ]
    },
    {
     "data": {
      "text/html": [
       "<ol class=list-inline>\n",
       "\t<li>-0.989334496685292</li>\n",
       "\t<li>2.34988430090637</li>\n",
       "</ol>\n"
      ],
      "text/latex": [
       "\\begin{enumerate*}\n",
       "\\item -0.989334496685292\n",
       "\\item 2.34988430090637\n",
       "\\end{enumerate*}\n"
      ],
      "text/markdown": [
       "1. -0.989334496685292\n",
       "2. 2.34988430090637\n",
       "\n",
       "\n"
      ],
      "text/plain": [
       "[1] -0.9893345  2.3498843"
      ]
     },
     "metadata": {},
     "output_type": "display_data"
    }
   ],
   "source": [
    "foo <- function(nsamp, name, alpha = 0.05){\n",
    "  x1 <- runif(nsamp,-1,1)\n",
    "  x2 <- runif(nsamp,-1,1)\n",
    "  e1 <- runif(nsamp,-1,1)\n",
    "  e2 <- runif(nsamp,-1,1)\n",
    "  x3 <- 0.2*x1 + 0.2*(x2 + 2)^2 + 0.2*e1\n",
    "  x4 <- 0.1 + 0.1*(x1 + x2) + 0.3*(x1 + 1.5)^2 + 0.2*e2\n",
    "  x5 <- rbinom(nsamp,1,exp(x1)/{1 + exp(x1)})\n",
    "  x6 <- rbinom(nsamp,1,exp(x2)/{1 + exp(x2)})\n",
    "  x <- cbind(x1,x2,x3,x4,x5,x6)\n",
    "  beta0 <- c(1.3, -1.3, 1, -0.5, 0.5, -0.5)/sqrt(5.13)\n",
    "  m0 <- function(t){\n",
    "    return(abs(t))\n",
    "  }\n",
    "  y <- m0(x%*%beta0) + rnorm(nsamp)\n",
    "    data <- cbind(y, x)\n",
    "    if(name == \"HulC\"){\n",
    "        estimate <- function(dat_tmp){\n",
    "            fit <- lm(dat_tmp[,1] ~ dat_tmp[,-1])\n",
    "            return(unname(fit$coeff)[2])\n",
    "        }\n",
    "        tmp <- as.vector(HulC(data, estimate, alpha = alpha, Delta = 0, dim = 1)$CI)\n",
    "    }\n",
    "    if(name == \"Wald\"){\n",
    "        mod <- lm(data[,1] ~ data[,-1])\n",
    "        est <- unname(mod$coeff[2])\n",
    "        sd_est <- sqrt(vcovHC(mod, type = \"HC\")[2,2])\n",
    "        tmp <- est + c(-1, 1)*qnorm(1-alpha/2)*sd_est\n",
    "    }\n",
    "    return(tmp)\n",
    "}\n",
    "\n",
    "## HulC confidence interval\n",
    "print(\"HulC confidence interval:\")\n",
    "foo(100, \"HulC\", alpha = 0.05)\n",
    "\n",
    "## Wald confidence interval\n",
    "print(\"Wald confidence interval:\")\n",
    "foo(100, \"Wald\", alpha = 0.05)"
   ]
  },
  {
   "cell_type": "markdown",
   "id": "7a9f3680",
   "metadata": {},
   "source": [
    "## Simulation\n",
    "The following code computes the HulC and Wald confidence intervals for 20 different sample sizes from 20 to 500. For reproducibility, seed is set at 2021. For each sample size, we perform 1000 replications to compute the width and coverage."
   ]
  },
  {
   "cell_type": "code",
   "execution_count": 5,
   "id": "49e9023b",
   "metadata": {},
   "outputs": [
    {
     "name": "stdout",
     "output_type": "stream",
     "text": [
      "[1] \"Simulation with 1000 replications done!!\"\n"
     ]
    }
   ],
   "source": [
    "set.seed(2021)\n",
    "nsamp_seq <- round(seq(20, 500, length = 20))\n",
    "name_seq <- c(\"HulC\", \"Wald\")\n",
    "nrep <- 1000\n",
    "rep_seq <- 1:nrep\n",
    "grid <- expand.grid(nsamp_seq, name_seq, rep_seq)\n",
    "colnames(grid) <- c(\"nsamp\", \"name\", \"rep\")\n",
    "width_mat <- data.frame(value = rep(0, nrow(grid)), nsamp = grid$nsamp, name = grid$name, rep = grid$rep)\n",
    "cov_mat <- width_mat\n",
    "\n",
    "for(idx in 1:nrow(grid)){\n",
    "    #if(idx%%1000 == 0){\n",
    "    #  print(idx)\n",
    "    #}\n",
    "    tmp <- foo(grid[idx,1], grid[idx,2], alpha = 0.05)\n",
    "    width_mat[idx, 1] <- (tmp[2] - tmp[1])\n",
    "    true_beta <- proj_beta\n",
    "    cov_mat[idx, 1] <- (tmp[1] <= true_beta && true_beta <= tmp[2])\n",
    "}\n",
    "print(\"Simulation with 1000 replications done!!\")"
   ]
  },
  {
   "cell_type": "code",
   "execution_count": 6,
   "id": "c6cf7880",
   "metadata": {},
   "outputs": [],
   "source": [
    "new_width_mat<- width_mat[width_mat$name == \"HulC\",]\n",
    "new_width_mat$value <- new_width_mat$value/width_mat[width_mat$name == \"Wald\",\"value\"]\n",
    "tmp_width_mat <- new_width_mat[new_width_mat$value <= 7.5,]\n",
    "\n",
    "nsamp_seq <- round(seq(20, 500, length = 20))\n",
    "name_seq <- c(\"HulC\", \"Wald\")\n",
    "grid_new <- expand.grid(nsamp_seq, name_seq)\n",
    "colnames(grid_new) <- c(\"nsamp\", \"name\")\n",
    "col.cov<- data.frame(cov = rep(0, nrow(grid_new)), nsamp = grid_new$nsamp, name = grid_new$name)\n",
    "for(idx in 1:nrow(grid_new)){\n",
    "  temp.width <- cov_mat[cov_mat$nsamp==grid_new[idx,\"nsamp\"],]\n",
    "  temp.width2 <- temp.width[temp.width$name==grid_new[idx,\"name\"],]\n",
    "  col.cov[idx,1] <- mean(temp.width2$value)\n",
    "}"
   ]
  },
  {
   "cell_type": "markdown",
   "id": "10776b24",
   "metadata": {},
   "source": [
    "# Plotting"
   ]
  },
  {
   "cell_type": "code",
   "execution_count": 7,
   "id": "51599ff4",
   "metadata": {},
   "outputs": [
    {
     "data": {
      "image/png": "[encoded data removed]",
      "text/plain": [
       "plot without title"
      ]
     },
     "metadata": {},
     "output_type": "display_data"
    }
   ],
   "source": [
    "new_width_mat1 <- new_width_mat[new_width_mat$nsamp %in% nsamp_seq[seq(1,20,by=2)],]\n",
    "new_width_mat2 <- new_width_mat[new_width_mat$nsamp %in% nsamp_seq[seq(2,20,by=2)],]\n",
    "g1 <- ggplot(data= new_width_mat1, mapping= aes(x=as.factor(nsamp), y =value)) +\n",
    "  geom_boxplot()+geom_hline(yintercept = 1.5,color=\"red\")+labs(x=\"Sample size n\", title = \"Width Ratio\", y = \"\")+theme(\n",
    "    axis.text.x = element_text(size = 15),\n",
    "    axis.text.y = element_text(size = 15),\n",
    "    axis.title=element_text(size=20,face=\"bold\"),\n",
    "    strip.text = element_text(size=20,face = \"bold\"),\n",
    "    plot.margin = unit(c(0, 0, 0, -0.2), \"cm\"),\n",
    "    plot.title = element_text(size=20)) + \n",
    "  geom_hline(yintercept=1,color=\"blue\") + \n",
    "  coord_cartesian(xlim = NULL, ylim = c(0, 10)) +\n",
    "  scale_y_continuous(breaks=c(0, 1, 1.5, 2.5, 5, 7.5, 10), \n",
    "                    labels=c(\"0.0\", \"1.0\", \"1.5\", \"2.5\", \"5\", \"7.5\", \"10.0\")) + \n",
    "  theme(axis.text.y = element_text(color = c(\"black\", \"blue\", \"red\", \"black\", \"black\", \"black\", \"black\")),\n",
    "                                  axis.ticks.y = element_line(color = c(\"black\", \"blue\", \"red\", \"black\", \"black\", \"black\", \"black\"),\n",
    "                                size = c(.5,0.5,0.5,.5,.5,.5,.5)))\n",
    "g1p <- ggplot(data= new_width_mat2, mapping= aes(x=as.factor(nsamp), y =value)) +\n",
    "  geom_boxplot()+geom_hline(yintercept = 1.5,color=\"red\")+labs(x=\"Sample size n\", title = \"Width Ratio\", y = \"\")+theme(\n",
    "    axis.text.x = element_text(size = 15),\n",
    "    axis.text.y = element_text(size = 15),\n",
    "    axis.title=element_text(size=20,face=\"bold\"),\n",
    "    strip.text = element_text(size=20,face = \"bold\"),\n",
    "    plot.margin = unit(c(0, 0, 0, -0.2), \"cm\"),\n",
    "    plot.title = element_text(size=20)) + \n",
    "  geom_hline(yintercept=1,color=\"blue\") + \n",
    "  coord_cartesian(xlim = NULL, ylim = c(0, 10)) +\n",
    "  scale_y_continuous(breaks=c(0, 1, 1.5, 2.5, 5, 7.5, 10), \n",
    "                    labels=c(\"0.0\", \"1.0\", \"1.5\", \"2.5\", \"5\", \"7.5\", \"10.0\")) + \n",
    "  theme(axis.text.y = element_text(color = c(\"black\", \"blue\", \"red\", \"black\", \"black\", \"black\", \"black\")),\n",
    "                                  axis.ticks.y = element_line(color = c(\"black\", \"blue\", \"red\", \"black\", \"black\", \"black\", \"black\"),\n",
    "                                size = c(.5,0.5,0.5,.5,.5,.5,.5)))\n",
    "\n",
    "g2 <- ggplot(data= col.cov, mapping= aes(x=nsamp, y =cov, col=as.factor(name), group= as.factor(name))) +\n",
    "  geom_line(size = 1.1) + geom_hline(yintercept = 0.95, linetype = 2) + coord_cartesian(xlim = NULL, ylim = c(0.80, 0.96))+theme(\n",
    "    legend.position = c(0.95, .25),\n",
    "    legend.justification = c(\"right\", \"top\"),\n",
    "    legend.box.just = \"right\",\n",
    "    legend.margin = margin(10, 10, 10, 10),\n",
    "    legend.text=element_text(size=15, face = \"bold\"),\n",
    "    legend.title=element_text(size = 15, face = \"bold\"),\n",
    "    axis.text.x=element_text(size = 20),\n",
    "    axis.text.y=element_text(size=20),\n",
    "    axis.title=element_text(size=20,face=\"bold\"),\n",
    "    strip.text = element_text(size=20,face = \"bold\"),\n",
    "    plot.margin = unit(c(0,0.2,0,0), \"cm\"),\n",
    "    plot.title=element_text(size=20),\n",
    "    axis.text=element_text(size=12)\n",
    "  )+ scale_color_discrete(\"Method\")+labs(x = \"Sample size n\", title = \"Empirical Coverage\", y = \"\")\n",
    "\n",
    "options(repr.plot.width=14, repr.plot.height=10)\n",
    "gridExtra::grid.arrange(g1, g1p, g2, ncol=2)"
   ]
  },
  {
   "cell_type": "markdown",
   "id": "9a257a01",
   "metadata": {},
   "source": [
    "# Comparison with Bootstrap\n",
    "In the following code, we compare HulC, Wald, and bootstrap intervals in the multivariate regression setting."
   ]
  },
  {
   "cell_type": "code",
   "execution_count": 7,
   "id": "f3bc345e",
   "metadata": {},
   "outputs": [
    {
     "name": "stdout",
     "output_type": "stream",
     "text": [
      "[1] \"HulC confidence interval:\"\n"
     ]
    },
    {
     "data": {
      "text/html": [
       "<ol class=list-inline>\n",
       "\t<li>-1.87530661634627</li>\n",
       "\t<li>-0.4412468754564</li>\n",
       "</ol>\n"
      ],
      "text/latex": [
       "\\begin{enumerate*}\n",
       "\\item -1.87530661634627\n",
       "\\item -0.4412468754564\n",
       "\\end{enumerate*}\n"
      ],
      "text/markdown": [
       "1. -1.87530661634627\n",
       "2. -0.4412468754564\n",
       "\n",
       "\n"
      ],
      "text/plain": [
       "[1] -1.8753066 -0.4412469"
      ]
     },
     "metadata": {},
     "output_type": "display_data"
    },
    {
     "name": "stdout",
     "output_type": "stream",
     "text": [
      "[1] \"Wald confidence interval:\"\n"
     ]
    },
    {
     "data": {
      "text/html": [
       "<ol class=list-inline>\n",
       "\t<li>-2.04996955565956</li>\n",
       "\t<li>0.950307622282338</li>\n",
       "</ol>\n"
      ],
      "text/latex": [
       "\\begin{enumerate*}\n",
       "\\item -2.04996955565956\n",
       "\\item 0.950307622282338\n",
       "\\end{enumerate*}\n"
      ],
      "text/markdown": [
       "1. -2.04996955565956\n",
       "2. 0.950307622282338\n",
       "\n",
       "\n"
      ],
      "text/plain": [
       "[1] -2.0499696  0.9503076"
      ]
     },
     "metadata": {},
     "output_type": "display_data"
    },
    {
     "name": "stdout",
     "output_type": "stream",
     "text": [
      "[1] \"Basic bootstrap confidence interval:\"\n"
     ]
    },
    {
     "data": {
      "text/html": [
       "<ol class=list-inline>\n",
       "\t<li>-1.65451329697647</li>\n",
       "\t<li>1.35839534808245</li>\n",
       "</ol>\n"
      ],
      "text/latex": [
       "\\begin{enumerate*}\n",
       "\\item -1.65451329697647\n",
       "\\item 1.35839534808245\n",
       "\\end{enumerate*}\n"
      ],
      "text/markdown": [
       "1. -1.65451329697647\n",
       "2. 1.35839534808245\n",
       "\n",
       "\n"
      ],
      "text/plain": [
       "[1] -1.654513  1.358395"
      ]
     },
     "metadata": {},
     "output_type": "display_data"
    },
    {
     "name": "stdout",
     "output_type": "stream",
     "text": [
      "[1] \"Percentile bootstrap confidence interval:\"\n"
     ]
    },
    {
     "data": {
      "text/html": [
       "<ol class=list-inline>\n",
       "\t<li>-1.09372285511806</li>\n",
       "\t<li>1.58098684815903</li>\n",
       "</ol>\n"
      ],
      "text/latex": [
       "\\begin{enumerate*}\n",
       "\\item -1.09372285511806\n",
       "\\item 1.58098684815903\n",
       "\\end{enumerate*}\n"
      ],
      "text/markdown": [
       "1. -1.09372285511806\n",
       "2. 1.58098684815903\n",
       "\n",
       "\n"
      ],
      "text/plain": [
       "[1] -1.093723  1.580987"
      ]
     },
     "metadata": {},
     "output_type": "display_data"
    }
   ],
   "source": [
    "foo <- function(nsamp, name, alpha = 0.05){\n",
    "  x1 <- runif(nsamp,-1,1)\n",
    "  x2 <- runif(nsamp,-1,1)\n",
    "  e1 <- runif(nsamp,-1,1)\n",
    "  e2 <- runif(nsamp,-1,1)\n",
    "  x3 <- 0.2*x1 + 0.2*(x2 + 2)^2 + 0.2*e1\n",
    "  x4 <- 0.1 + 0.1*(x1 + x2) + 0.3*(x1 + 1.5)^2 + 0.2*e2\n",
    "  x5 <- rbinom(nsamp,1,exp(x1)/{1 + exp(x1)})\n",
    "  x6 <- rbinom(nsamp,1,exp(x2)/{1 + exp(x2)})\n",
    "  x <- cbind(x1,x2,x3,x4,x5,x6)\n",
    "  beta0 <- c(1.3, -1.3, 1, -0.5, 0.5, -0.5)/sqrt(5.13)\n",
    "  m0 <- function(t){\n",
    "    return(abs(t))\n",
    "  }\n",
    "  y <- m0(x%*%beta0) + rnorm(nsamp)\n",
    "    data <- cbind(y, x)\n",
    "    if(name == \"HulC\"){\n",
    "        estimate <- function(dat_tmp){\n",
    "            fit <- lm(dat_tmp[,1] ~ dat_tmp[,-1])\n",
    "            return(unname(fit$coeff)[2])\n",
    "        }\n",
    "        tmp <- as.vector(HulC(data, estimate, alpha = alpha, Delta = 0, dim = 1)$CI)\n",
    "    }\n",
    "    if(name == \"Wald\"){\n",
    "        mod <- lm(data[,1] ~ data[,-1])\n",
    "        est <- unname(mod$coeff[2])\n",
    "        sd_est <- sqrt(vcovHC(mod, type = \"HC\")[2,2])\n",
    "        tmp <- est + c(-1, 1)*qnorm(1-alpha/2)*sd_est\n",
    "    }\n",
    "    if(name == \"basic_boot\"){\n",
    "        boot_coef <- function(DATA, indices){\n",
    "          dat_xy <- DATA[indices,]\n",
    "          mod <- lm(dat_xy[,1] ~ dat_xy[,-1])\n",
    "          m <- unname(mod$coeff[2])\n",
    "          v <- sqrt(vcovHC(mod, type = \"HC\")[2,2])\n",
    "          return(c(m, v))\n",
    "        }        \n",
    "        boot_replicates <- boot(data, boot_coef, 500)\n",
    "        tmp <- boot.ci(boot_replicates, conf = 1 - alpha, type = \"basic\")$basic[c(4,5)]\n",
    "    }\n",
    "    if(name == \"perc_boot\"){\n",
    "        boot_coef <- function(DATA, indices){\n",
    "          dat_xy <- DATA[indices,]\n",
    "          mod <- lm(dat_xy[,1] ~ dat_xy[,-1])\n",
    "          m <- unname(mod$coeff[2])\n",
    "          v <- sqrt(vcovHC(mod, type = \"HC\")[2,2])\n",
    "          return(c(m, v))\n",
    "        }        \n",
    "        boot_replicates <- boot(data, boot_coef, 500)\n",
    "        tmp <- boot.ci(boot_replicates, conf = 1 - alpha, type = \"perc\")$percent[c(4,5)]\n",
    "    }    \n",
    "    return(tmp)\n",
    "}\n",
    "\n",
    "## HulC confidence interval\n",
    "print(\"HulC confidence interval:\")\n",
    "foo(100, \"HulC\", alpha = 0.05)\n",
    "\n",
    "## Wald confidence interval\n",
    "print(\"Wald confidence interval:\")\n",
    "foo(100, \"Wald\", alpha = 0.05)\n",
    "\n",
    "## Bootstrap confidence interval\n",
    "print(\"Basic bootstrap confidence interval:\")\n",
    "foo(100, \"basic_boot\", alpha = 0.05)\n",
    "\n",
    "## Bootstrap confidence interval\n",
    "print(\"Percentile bootstrap confidence interval:\")\n",
    "foo(100, \"perc_boot\", alpha = 0.05)"
   ]
  },
  {
   "cell_type": "code",
   "execution_count": 8,
   "id": "44c77570",
   "metadata": {},
   "outputs": [
    {
     "name": "stderr",
     "output_type": "stream",
     "text": [
      "Warning message in summary.lm(x):\n",
      "\"essentially perfect fit: summary may be unreliable\"Warning message in summary.lm(x):\n",
      "\"essentially perfect fit: summary may be unreliable\""
     ]
    },
    {
     "name": "stdout",
     "output_type": "stream",
     "text": [
      "[1] \"Simulation with 1000 replications done!!\"\n"
     ]
    }
   ],
   "source": [
    "set.seed(2021)\n",
    "nsamp_seq <- round(seq(20, 500, length = 10))\n",
    "name_seq <- c(\"HulC\", \"Wald\", \"basic_boot\", \"perc_boot\")\n",
    "nrep <- 200\n",
    "rep_seq <- 1:nrep\n",
    "grid <- expand.grid(nsamp_seq, name_seq, rep_seq)\n",
    "colnames(grid) <- c(\"nsamp\", \"name\", \"rep\")\n",
    "width_mat <- data.frame(value = rep(0, nrow(grid)), nsamp = grid$nsamp, name = grid$name, rep = grid$rep)\n",
    "cov_mat <- width_mat\n",
    "\n",
    "for(idx in 1:nrow(grid)){\n",
    "    #if(idx%%1000 == 0){\n",
    "    #  print(idx)\n",
    "    #}\n",
    "    tmp <- foo(grid[idx,1], grid[idx,2], alpha = 0.05)\n",
    "    width_mat[idx, 1] <- (tmp[2] - tmp[1])\n",
    "    true_beta <- proj_beta\n",
    "    cov_mat[idx, 1] <- (tmp[1] <= true_beta && true_beta <= tmp[2])\n",
    "}\n",
    "print(\"Simulation with 1000 replications done!!\")"
   ]
  },
  {
   "cell_type": "code",
   "execution_count": 9,
   "id": "83cc97a5",
   "metadata": {},
   "outputs": [],
   "source": [
    "new_width_mat<- width_mat[width_mat$name == \"HulC\",]\n",
    "new_width_mat$value <- new_width_mat$value/width_mat[width_mat$name == \"Wald\",\"value\"]\n",
    "tmp_width_mat <- new_width_mat[new_width_mat$value <= 7.5,]\n",
    "\n",
    "nsamp_seq <- round(seq(20, 500, length = 10))\n",
    "name_seq <- c(\"HulC\", \"Wald\", \"basic_boot\", \"perc_boot\")\n",
    "grid_new <- expand.grid(nsamp_seq, name_seq)\n",
    "colnames(grid_new) <- c(\"nsamp\", \"name\")\n",
    "col.cov<- data.frame(cov = rep(0, nrow(grid_new)), nsamp = grid_new$nsamp, name = grid_new$name)\n",
    "for(idx in 1:nrow(grid_new)){\n",
    "  temp.width <- cov_mat[cov_mat$nsamp==grid_new[idx,\"nsamp\"],]\n",
    "  temp.width2 <- temp.width[temp.width$name==grid_new[idx,\"name\"],]\n",
    "  col.cov[idx,1] <- mean(temp.width2$value)\n",
    "}"
   ]
  },
  {
   "cell_type": "code",
   "execution_count": 15,
   "id": "6dfe956a",
   "metadata": {},
   "outputs": [
    {
     "data": {
      "image/png": "[encoded data removed]",
      "text/plain": [
       "plot without title"
      ]
     },
     "metadata": {},
     "output_type": "display_data"
    }
   ],
   "source": [
    "new_width_mat1 <- new_width_mat[new_width_mat$nsamp %in% nsamp_seq[seq(1,10,by=1)],]\n",
    "# new_width_mat2 <- new_width_mat[new_width_mat$nsamp %in% nsamp_seq[seq(2,10,by=1)],]\n",
    "g1 <- ggplot(data= new_width_mat1, mapping= aes(x=as.factor(nsamp), y =value)) +\n",
    "  geom_boxplot()+geom_hline(yintercept = 1.5,color=\"red\")+labs(x=\"Sample size n\", title = \"Width Ratio\", y = \"\")+theme(\n",
    "    axis.text.x = element_text(size = 15),\n",
    "    axis.text.y = element_text(size = 15),\n",
    "    axis.title=element_text(size=20,face=\"bold\"),\n",
    "    strip.text = element_text(size=20,face = \"bold\"),\n",
    "    plot.margin = unit(c(0, 0, 0, -0.2), \"cm\"),\n",
    "    plot.title = element_text(size=20)) + \n",
    "  geom_hline(yintercept=1,color=\"blue\") + \n",
    "  coord_cartesian(xlim = NULL, ylim = c(0, 10)) +\n",
    "  scale_y_continuous(breaks=c(0, 1, 1.5, 2.5, 5, 7.5, 10), \n",
    "                    labels=c(\"0.0\", \"1.0\", \"1.5\", \"2.5\", \"5\", \"7.5\", \"10.0\")) + \n",
    "  theme(axis.text.y = element_text(color = c(\"black\", \"blue\", \"red\", \"black\", \"black\", \"black\", \"black\")),\n",
    "                                  axis.ticks.y = element_line(color = c(\"black\", \"blue\", \"red\", \"black\", \"black\", \"black\", \"black\"),\n",
    "                                size = c(.5,0.5,0.5,.5,.5,.5,.5)))\n",
    "# g1p <- ggplot(data= new_width_mat2, mapping= aes(x=as.factor(nsamp), y =value)) +\n",
    "#   geom_boxplot()+geom_hline(yintercept = 1.5,color=\"red\")+labs(x=\"Sample size n\", title = \"Width Ratio\", y = \"\")+theme(\n",
    "#     axis.text.x = element_text(size = 15),\n",
    "#     axis.text.y = element_text(size = 15),\n",
    "#     axis.title=element_text(size=20,face=\"bold\"),\n",
    "#     strip.text = element_text(size=20,face = \"bold\"),\n",
    "#     plot.margin = unit(c(0, 0, 0, -0.2), \"cm\"),\n",
    "#     plot.title = element_text(size=20)) + \n",
    "#   geom_hline(yintercept=1,color=\"blue\") + \n",
    "#   coord_cartesian(xlim = NULL, ylim = c(0, 10)) +\n",
    "#   scale_y_continuous(breaks=c(0, 1, 1.5, 2.5, 5, 7.5, 10), \n",
    "#                     labels=c(\"0.0\", \"1.0\", \"1.5\", \"2.5\", \"5\", \"7.5\", \"10.0\")) + \n",
    "#   theme(axis.text.y = element_text(color = c(\"black\", \"blue\", \"red\", \"black\", \"black\", \"black\", \"black\")),\n",
    "#                                   axis.ticks.y = element_line(color = c(\"black\", \"blue\", \"red\", \"black\", \"black\", \"black\", \"black\"),\n",
    "#                                 size = c(.5,0.5,0.5,.5,.5,.5,.5)))\n",
    "\n",
    "g2 <- ggplot(data= col.cov, mapping= aes(x=nsamp, y =cov, col=as.factor(name), group= as.factor(name))) +\n",
    "  geom_line(size = 1.1) + geom_hline(yintercept = 0.95, linetype = 2) + coord_cartesian(xlim = NULL, ylim = c(0.80, 0.97))+theme(\n",
    "    legend.position = c(0.95, .4),\n",
    "    legend.justification = c(\"right\", \"top\"),\n",
    "    legend.box.just = \"right\",\n",
    "    legend.margin = margin(10, 10, 10, 10),\n",
    "    legend.text=element_text(size=15, face = \"bold\"),\n",
    "    legend.title=element_text(size = 15, face = \"bold\"),\n",
    "    axis.text.x=element_text(size = 20),\n",
    "    axis.text.y=element_text(size=20),\n",
    "    axis.title=element_text(size=20,face=\"bold\"),\n",
    "    strip.text = element_text(size=20,face = \"bold\"),\n",
    "    plot.margin = unit(c(0,0.2,0,0), \"cm\"),\n",
    "    plot.title=element_text(size=20),\n",
    "    axis.text=element_text(size=12)\n",
    "  )+ scale_color_discrete(\"Method\")+labs(x = \"Sample size n\", title = \"Empirical Coverage\", y = \"\")\n",
    "\n",
    "options(repr.plot.width=14, repr.plot.height=6)\n",
    "# gridExtra::grid.arrange(g1, g1p, g2, ncol=2)\n",
    "gridExtra::grid.arrange(g1, g2, ncol=2)"
   ]
  }
 ],
 "metadata": {
  "kernelspec": {
   "display_name": "R",
   "language": "R",
   "name": "ir"
  },
  "language_info": {
   "codemirror_mode": "r",
   "file_extension": ".r",
   "mimetype": "text/x-r-source",
   "name": "R",
   "pygments_lexer": "r",
   "version": "3.6.1"
  }
 },
 "nbformat": 4,
 "nbformat_minor": 5
}

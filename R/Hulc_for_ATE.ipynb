{
 "cells": [
  {
   "cell_type": "markdown",
   "id": "2315c155",
   "metadata": {},
   "source": [
    "# HulC for Average Treatment Effect Estimation\n",
    "In this page, we consider the coverage properties of HulC and adaptive HulC for ATE and compare its performance to Wald intervals.\n",
    "\\begin{equation*}\n",
    "Y = \\beta A + f(X) + \\xi.\n",
    "\\end{equation*}"
   ]
  },
  {
   "cell_type": "code",
   "execution_count": 1,
   "id": "28a5b6aa",
   "metadata": {},
   "outputs": [
    {
     "name": "stderr",
     "output_type": "stream",
     "text": [
      "Warning message:\n",
      "\"package 'mvtnorm' was built under R version 3.6.3\"Warning message:\n",
      "\"package 'grf' was built under R version 3.6.3\""
     ]
    },
    {
     "data": {
      "text/html": [
       "<pre class=language-r><code>function (data, estimate, alpha = 0.05, Delta = 0, dim = 1, randomize = TRUE) \n",
       "NULL</code></pre>"
      ],
      "text/latex": [
       "\\begin{minted}{r}\n",
       "function (data, estimate, alpha = 0.05, Delta = 0, dim = 1, randomize = TRUE) \n",
       "NULL\n",
       "\\end{minted}"
      ],
      "text/markdown": [
       "```r\n",
       "function (data, estimate, alpha = 0.05, Delta = 0, dim = 1, randomize = TRUE) \n",
       "NULL\n",
       "```"
      ],
      "text/plain": [
       "function (data, estimate, alpha = 0.05, Delta = 0, dim = 1, randomize = TRUE) \n",
       "NULL"
      ]
     },
     "metadata": {},
     "output_type": "display_data"
    },
    {
     "data": {
      "text/html": [
       "<pre class=language-r><code>function (data, estimate, alpha = 0.05, dim = 1, subsamp_exp = 2/3, \n",
       "<span style=white-space:pre-wrap>    nsub = 1000, randomize = TRUE) </span>\n",
       "NULL</code></pre>"
      ],
      "text/latex": [
       "\\begin{minted}{r}\n",
       "function (data, estimate, alpha = 0.05, dim = 1, subsamp\\_exp = 2/3, \n",
       "    nsub = 1000, randomize = TRUE) \n",
       "NULL\n",
       "\\end{minted}"
      ],
      "text/markdown": [
       "```r\n",
       "function (data, estimate, alpha = 0.05, dim = 1, subsamp_exp = 2/3, \n",
       "    nsub = 1000, randomize = TRUE) \n",
       "NULL\n",
       "```"
      ],
      "text/plain": [
       "function (data, estimate, alpha = 0.05, dim = 1, subsamp_exp = 2/3, \n",
       "    nsub = 1000, randomize = TRUE) \n",
       "NULL"
      ]
     },
     "metadata": {},
     "output_type": "display_data"
    }
   ],
   "source": [
    "source(\"HulC.R\")\n",
    "library(sandwich)\n",
    "library(mvtnorm)\n",
    "library(grf)\n",
    "suppressMessages(library(\"ggplot2\"))\n",
    "args(HulC)\n",
    "args(adaptive_HulC)"
   ]
  },
  {
   "cell_type": "code",
   "execution_count": 2,
   "id": "3909239e",
   "metadata": {},
   "outputs": [],
   "source": [
    "HulC_larry = function(X,A,Y,alpha,ntrees=1000){\n",
    "     n = length(Y)\n",
    "     B = ceiling(log(2/alpha)/log(2))\n",
    "     m = floor(n/B)\n",
    "     Index = rep(1:B,rep(m,B))\n",
    "     psi = rep(0,B)\n",
    "     for(i in 1:B){\n",
    "          I = (1:n)[Index == i]\n",
    "          psi[i] = ATE(X[I],A[I],Y[I],alpha,ntrees)$psi\n",
    "          }\n",
    "     return(list(left=min(psi),right=max(psi)))\n",
    "     }\n",
    "\n",
    "\n",
    "\n",
    "splitdata = function(X,A,Y){\n",
    "     X = as.matrix(X)\n",
    "     n = nrow(X)\n",
    "     m = floor(n/2)\n",
    "     I = sample(1:n,size=m,replace=FALSE)\n",
    "     J = setdiff(1:n,I)\n",
    "     X1 = as.matrix(X[I,])\n",
    "     Y1 = Y[I]\n",
    "     A1 = A[I]\n",
    "     X2 = as.matrix(X[J,])\n",
    "     Y2 = Y[J]\n",
    "     A2 = A[J]\n",
    "     return(list(X1=X1,Y1=Y1,A1=A1,X2=X2,Y2=Y2,A2=A2))\n",
    "     }\n",
    "\n",
    "\n",
    "\n",
    "\n",
    "\n",
    "Forest = function(X,Y,ntrees=1000,Xtarget){\n",
    "     ### fit Y = mu(X,A)\n",
    "     ### train on (X,Y); get fitted values at Xtarget\n",
    "     ### \n",
    "     X = as.matrix(X)\n",
    "     Xtarget = as.matrix(Xtarget)\n",
    "     tmp = regression_forest(X,Y,honesty = FALSE,num.trees=ntrees)\n",
    "     out = predict(tmp,Xtarget)[,1]\n",
    "     names(out) = NULL\n",
    "     return(out)\n",
    "     }\n",
    "\n",
    "\n",
    "\n",
    "ATE = function(X,A,Y,alpha,ntrees=1000){\n",
    "    z = -qnorm(alpha/2)\n",
    "    tmp = splitdata(X,A,Y)\n",
    "    X1 = as.matrix(tmp$X1)\n",
    "    A1 = as.matrix(tmp$A1)\n",
    "    Y1 = as.matrix(tmp$Y1)\n",
    "    X2 = as.matrix(tmp$X2)\n",
    "    A2 = as.matrix(tmp$A2)\n",
    "    Y2 = as.matrix(tmp$Y2)\n",
    "\n",
    "    m = nrow(X2)\n",
    "    mu = Forest(X1,Y1,ntrees=ntrees,Xtarget=X2)  ##regress Y on X\n",
    "    nu = Forest(X1,A1,ntrees=ntrees,Xtarget=X2)  ##regress A on X\n",
    "\n",
    "    resY = Y2 - mu\n",
    "    resA = A2 - nu\n",
    "\n",
    "    tmp = lm(resY ~ 0 + resA)\n",
    "    psi = tmp$coef\n",
    "    se =  sqrt(vcovHC(tmp, type = \"HC\")[1,1])\n",
    "#    se  = summary(tmp)$coef[1,2]\n",
    "    left  = psi - z*se\n",
    "    right = psi + z*se\n",
    "\n",
    "    return(list(psi=psi,se=se,left=left,right=right))\n",
    "    }\n",
    "\n",
    "ATE_new = function(dat,ntrees=1000){\n",
    "    dd <-  ncol(dat)\n",
    "    X <- dat[,-c(dd-1, dd)]\n",
    "    A <- dat[,dd-1]\n",
    "    Y <- dat[,dd]\n",
    "    tmp = splitdata(X,A,Y)\n",
    "    X1 = as.matrix(tmp$X1)\n",
    "    A1 = as.matrix(tmp$A1)\n",
    "    Y1 = as.matrix(tmp$Y1)\n",
    "    X2 = as.matrix(tmp$X2)\n",
    "    A2 = as.matrix(tmp$A2)\n",
    "    Y2 = as.matrix(tmp$Y2)\n",
    "\n",
    "    m = nrow(X2)\n",
    "    mu = Forest(X1,Y1,ntrees=ntrees,Xtarget=X2)  ##regress Y on X\n",
    "    nu = Forest(X1,A1,ntrees=ntrees,Xtarget=X2)  ##regress A on X\n",
    "\n",
    "    resY = Y2 - mu\n",
    "    resA = A2 - nu\n",
    "\n",
    "    tmp = lm(resY ~ 0 + resA)\n",
    "    psi = tmp$coef\n",
    "#     se =  sqrt(vcovHC(tmp, type = \"HC\")[1,1])\n",
    "# #    se  = summary(tmp)$coef[1,2]\n",
    "#     left  = psi - z*se\n",
    "#     right = psi + z*se\n",
    "\n",
    "    return(psi)\n",
    "}\n",
    "\n",
    "\n",
    "\n",
    "\n",
    "\n",
    "\n"
   ]
  },
  {
   "cell_type": "code",
   "execution_count": 4,
   "id": "e513d766",
   "metadata": {},
   "outputs": [
    {
     "name": "stdout",
     "output_type": "stream",
     "text": [
      "HulC with randomized number of splits\n"
     ]
    },
    {
     "data": {
      "text/html": [
       "<dl>\n",
       "\t<dt>$CI</dt>\n",
       "\t\t<dd><table>\n",
       "<thead><tr><th scope=col>lwr</th><th scope=col>upr</th></tr></thead>\n",
       "<tbody>\n",
       "\t<tr><td>2.109198</td><td>5.059347</td></tr>\n",
       "</tbody>\n",
       "</table>\n",
       "</dd>\n",
       "\t<dt>$median.bias</dt>\n",
       "\t\t<dd>0</dd>\n",
       "\t<dt>$B</dt>\n",
       "\t\t<dd>6</dd>\n",
       "</dl>\n"
      ],
      "text/latex": [
       "\\begin{description}\n",
       "\\item[\\$CI] \\begin{tabular}{ll}\n",
       " lwr & upr\\\\\n",
       "\\hline\n",
       "\t 2.109198 & 5.059347\\\\\n",
       "\\end{tabular}\n",
       "\n",
       "\\item[\\$median.bias] 0\n",
       "\\item[\\$B] 6\n",
       "\\end{description}\n"
      ],
      "text/markdown": [
       "$CI\n",
       ":   \n",
       "| lwr | upr |\n",
       "|---|---|\n",
       "| 2.109198 | 5.059347 |\n",
       "\n",
       "\n",
       "$median.bias\n",
       ":   0\n",
       "$B\n",
       ":   6\n",
       "\n",
       "\n"
      ],
      "text/plain": [
       "$CI\n",
       "          lwr      upr\n",
       "[1,] 2.109198 5.059347\n",
       "\n",
       "$median.bias\n",
       "[1] 0\n",
       "\n",
       "$B\n",
       "[1] 6\n"
      ]
     },
     "metadata": {},
     "output_type": "display_data"
    },
    {
     "name": "stdout",
     "output_type": "stream",
     "text": [
      "HulC without randomized number of splits\n"
     ]
    },
    {
     "data": {
      "text/html": [
       "<dl>\n",
       "\t<dt>$CI</dt>\n",
       "\t\t<dd><table>\n",
       "<thead><tr><th scope=col>lwr</th><th scope=col>upr</th></tr></thead>\n",
       "<tbody>\n",
       "\t<tr><td>2.087167</td><td>5.181793</td></tr>\n",
       "</tbody>\n",
       "</table>\n",
       "</dd>\n",
       "\t<dt>$median.bias</dt>\n",
       "\t\t<dd>0</dd>\n",
       "\t<dt>$B</dt>\n",
       "\t\t<dd>6</dd>\n",
       "</dl>\n"
      ],
      "text/latex": [
       "\\begin{description}\n",
       "\\item[\\$CI] \\begin{tabular}{ll}\n",
       " lwr & upr\\\\\n",
       "\\hline\n",
       "\t 2.087167 & 5.181793\\\\\n",
       "\\end{tabular}\n",
       "\n",
       "\\item[\\$median.bias] 0\n",
       "\\item[\\$B] 6\n",
       "\\end{description}\n"
      ],
      "text/markdown": [
       "$CI\n",
       ":   \n",
       "| lwr | upr |\n",
       "|---|---|\n",
       "| 2.087167 | 5.181793 |\n",
       "\n",
       "\n",
       "$median.bias\n",
       ":   0\n",
       "$B\n",
       ":   6\n",
       "\n",
       "\n"
      ],
      "text/plain": [
       "$CI\n",
       "          lwr      upr\n",
       "[1,] 2.087167 5.181793\n",
       "\n",
       "$median.bias\n",
       "[1] 0\n",
       "\n",
       "$B\n",
       "[1] 6\n"
      ]
     },
     "metadata": {},
     "output_type": "display_data"
    },
    {
     "name": "stdout",
     "output_type": "stream",
     "text": [
      "Adaptive HulC with randomized number of splits\n"
     ]
    },
    {
     "data": {
      "text/html": [
       "<dl>\n",
       "\t<dt>$CI</dt>\n",
       "\t\t<dd><table>\n",
       "<thead><tr><th scope=col>lwr</th><th scope=col>upr</th></tr></thead>\n",
       "<tbody>\n",
       "\t<tr><td>1.273704</td><td>2.977353</td></tr>\n",
       "</tbody>\n",
       "</table>\n",
       "</dd>\n",
       "\t<dt>$median.bias</dt>\n",
       "\t\t<dd>0.00999999999999962</dd>\n",
       "\t<dt>$B</dt>\n",
       "\t\t<dd>6</dd>\n",
       "</dl>\n"
      ],
      "text/latex": [
       "\\begin{description}\n",
       "\\item[\\$CI] \\begin{tabular}{ll}\n",
       " lwr & upr\\\\\n",
       "\\hline\n",
       "\t 1.273704 & 2.977353\\\\\n",
       "\\end{tabular}\n",
       "\n",
       "\\item[\\$median.bias] 0.00999999999999962\n",
       "\\item[\\$B] 6\n",
       "\\end{description}\n"
      ],
      "text/markdown": [
       "$CI\n",
       ":   \n",
       "| lwr | upr |\n",
       "|---|---|\n",
       "| 1.273704 | 2.977353 |\n",
       "\n",
       "\n",
       "$median.bias\n",
       ":   0.00999999999999962\n",
       "$B\n",
       ":   6\n",
       "\n",
       "\n"
      ],
      "text/plain": [
       "$CI\n",
       "          lwr      upr\n",
       "[1,] 1.273704 2.977353\n",
       "\n",
       "$median.bias\n",
       "[1] 0.01\n",
       "\n",
       "$B\n",
       "[1] 6\n"
      ]
     },
     "metadata": {},
     "output_type": "display_data"
    }
   ],
   "source": [
    "set.seed(1)\n",
    "n = 1000\n",
    "a = 1\n",
    "beta = 2\n",
    "d = 2\n",
    "A = rnorm(n)\n",
    "X = matrix(rnorm(n*d),n,d)\n",
    "X = X + A\n",
    "Y = beta*A + 3*X[,1] + 3*X[,2]^2 + rnorm(n)\n",
    "data  <- cbind(X, A, Y)\n",
    "cat(\"HulC with randomized number of splits\\n\")\n",
    "HulC(data, ATE_new)\n",
    "cat(\"HulC without randomized number of splits\\n\")\n",
    "HulC(data, ATE_new, randomize = FALSE)\n",
    "cat(\"Adaptive HulC with randomized number of splits\\n\")\n",
    "adaptive_HulC(data, ATE_new)"
   ]
  },
  {
   "cell_type": "code",
   "execution_count": 14,
   "id": "2f0bec0a",
   "metadata": {},
   "outputs": [
    {
     "name": "stdout",
     "output_type": "stream",
     "text": [
      "[1] 0.71\n",
      "[1] 0.94\n"
     ]
    },
    {
     "data": {
      "image/png": "[encoded data removed]",
      "text/plain": [
       "Plot with title \"Histogram of C[, 2]\""
      ]
     },
     "metadata": {},
     "output_type": "display_data"
    }
   ],
   "source": [
    "nsim = 100\n",
    "alpha = .1\n",
    "\n",
    "set.seed(111)\n",
    "\n",
    "### low dimensional example\n",
    "coverage = 0\n",
    "coverage_hulc = 0\n",
    "n = 1000\n",
    "a = 1\n",
    "beta = 2\n",
    "C = matrix(0,nsim,2)\n",
    "psi = rep(0,nsim)\n",
    "se = rep(0,nsim)\n",
    "d = 20\n",
    "for(i in 1:nsim){\n",
    "# cat(i,\"  out of \",nsim,\"\\n\")\n",
    "     A = rnorm(n)\n",
    "     X = matrix(rnorm(n*d),n,d)\n",
    "     X = X + A\n",
    "     Y = beta*A + 3*X[,1] + 3*X[,2]^2 + rnorm(n)\n",
    "     out = ATE(X,A,Y,alpha)\n",
    "     if( (out$left <= beta) & (beta <= out$right) )coverage = coverage + (1/nsim)\n",
    "     C[i,] = c(out$left,out$right)\n",
    "     psi[i] = out$psi\n",
    "     se[i] = out$se\n",
    "#      out = HulC_larry(X,A,Y,alpha)\n",
    "    out = adaptive_HulC(cbind(X, A, Y), ATE_new, alpha, nsub = 200)\n",
    "    CI <- out$CI\n",
    "#     print(out)\n",
    "     if( (CI[,\"lwr\"] <= beta) & (beta <= CI[,\"upr\"]) )coverage_hulc = coverage_hulc + (1/nsim)\n",
    "     }\n",
    "print(coverage)\n",
    "print(coverage_hulc)\n",
    "par(mfrow=c(2,2))\n",
    "hist(psi)\n",
    "hist(se)\n",
    "hist(C[,1])\n",
    "hist(C[,2])"
   ]
  }
 ],
 "metadata": {
  "kernelspec": {
   "display_name": "R",
   "language": "R",
   "name": "ir"
  },
  "language_info": {
   "codemirror_mode": "r",
   "file_extension": ".r",
   "mimetype": "text/x-r-source",
   "name": "R",
   "pygments_lexer": "r",
   "version": "3.6.1"
  }
 },
 "nbformat": 4,
 "nbformat_minor": 5
}
